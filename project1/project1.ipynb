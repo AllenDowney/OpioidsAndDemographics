{
 "cells": [
  {
   "cell_type": "markdown",
   "metadata": {},
   "source": [
    "# How does health insurance affect rates of use and abuse of opioids?\n",
    "### Data Science - 2019\n",
    "### Filipe Borba & Micah Reid"
   ]
  },
  {
   "cell_type": "markdown",
   "metadata": {},
   "source": [
    "  There has been research showing that [health insurance can lead to prescription opioid overuse, fueling the opioid epidemic.](https://www.jhsph.edu/news/news-releases/2018/health-insurance-plans-may-be-fueling-opioid-epidemic.html) However, there has been little done to look into variations across insurance types, or comparative rates of use and abuse between the insured and uninsured.\n",
    "  Our goal is to identify weak points in the American healthcare system that could be investigated to pinpoint opioid dependency factors, through the analysis of opioid use and abuse across populations with private, public, or no health insurance.\n",
    "\n",
    "The data loaded here is the result of a cleaned version of the National Survey  on Drug Use and Health 2017 dataset. Only the important variables were separated and treated so the analysis would be less confusing. If you want to know more about that, refer to the  [Data Management notebook.](/notebooks/project1/Data Management.ipynb)\n"
   ]
  },
  {
   "cell_type": "code",
   "execution_count": 43,
   "metadata": {
    "collapsed": true
   },
   "outputs": [],
   "source": [
    "%matplotlib inline\n",
    "\n",
    "import pandas as pd\n",
    "import numpy as np\n",
    "\n",
    "import matplotlib.pyplot as plt\n",
    "import seaborn as sns\n",
    "sns.set(style='white')\n",
    "\n",
    "import utils\n",
    "from utils import decorate\n",
    "from thinkstats2 import Pmf, Cdf\n",
    "import thinkplot\n",
    "width = 0.4 #Width of the histograms, optional"
   ]
  },
  {
   "cell_type": "code",
   "execution_count": 44,
   "metadata": {},
   "outputs": [
    {
     "data": {
      "text/html": [
       "<div>\n",
       "<style>\n",
       "    .dataframe thead tr:only-child th {\n",
       "        text-align: right;\n",
       "    }\n",
       "\n",
       "    .dataframe thead th {\n",
       "        text-align: left;\n",
       "    }\n",
       "\n",
       "    .dataframe tbody tr th {\n",
       "        vertical-align: top;\n",
       "    }\n",
       "</style>\n",
       "<table border=\"1\" class=\"dataframe\">\n",
       "  <thead>\n",
       "    <tr style=\"text-align: right;\">\n",
       "      <th></th>\n",
       "      <th>SEX</th>\n",
       "      <th>AGE</th>\n",
       "      <th>PRES_PAINKILLER_USE</th>\n",
       "      <th>REC_PAINKILLER_MISUSE</th>\n",
       "      <th>ANY_PAINKILLER_LIFETIME</th>\n",
       "      <th>OXYCONTIN_USE</th>\n",
       "      <th>OXYCONTIN_MISUSED</th>\n",
       "      <th>INCOME</th>\n",
       "      <th>FAMILY_INCOME</th>\n",
       "      <th>EDUCATION</th>\n",
       "      <th>CAIDCHIP_HI</th>\n",
       "      <th>PRIVATE_HI</th>\n",
       "      <th>ANY_HI</th>\n",
       "      <th>HEALTH_INSURANCE</th>\n",
       "    </tr>\n",
       "  </thead>\n",
       "  <tbody>\n",
       "    <tr>\n",
       "      <th>0</th>\n",
       "      <td>Male</td>\n",
       "      <td>65+</td>\n",
       "      <td>Never used</td>\n",
       "      <td>Never misused</td>\n",
       "      <td>Not used</td>\n",
       "      <td>Not used in past year</td>\n",
       "      <td>Did not misuse - past year</td>\n",
       "      <td>75k+</td>\n",
       "      <td>75k+</td>\n",
       "      <td>College Graduate</td>\n",
       "      <td>Doesn't have Medicaid/CHIP</td>\n",
       "      <td>Has Private HI</td>\n",
       "      <td>With HI</td>\n",
       "      <td>Has Private HI</td>\n",
       "    </tr>\n",
       "    <tr>\n",
       "      <th>1</th>\n",
       "      <td>Male</td>\n",
       "      <td>35-49</td>\n",
       "      <td>Used in 12+ months</td>\n",
       "      <td>Never misused</td>\n",
       "      <td>Used</td>\n",
       "      <td>Not used in past year</td>\n",
       "      <td>Did not misuse - past year</td>\n",
       "      <td>30-40k</td>\n",
       "      <td>30-40k</td>\n",
       "      <td>College Graduate</td>\n",
       "      <td>Has Medicaid/CHIP</td>\n",
       "      <td>Doesn't have Private HI</td>\n",
       "      <td>With HI</td>\n",
       "      <td>Has Medicaid/CHIP</td>\n",
       "    </tr>\n",
       "  </tbody>\n",
       "</table>\n",
       "</div>"
      ],
      "text/plain": [
       "    SEX    AGE PRES_PAINKILLER_USE REC_PAINKILLER_MISUSE  \\\n",
       "0  Male    65+          Never used         Never misused   \n",
       "1  Male  35-49  Used in 12+ months         Never misused   \n",
       "\n",
       "  ANY_PAINKILLER_LIFETIME          OXYCONTIN_USE           OXYCONTIN_MISUSED  \\\n",
       "0                Not used  Not used in past year  Did not misuse - past year   \n",
       "1                    Used  Not used in past year  Did not misuse - past year   \n",
       "\n",
       "   INCOME FAMILY_INCOME         EDUCATION                 CAIDCHIP_HI  \\\n",
       "0    75k+          75k+  College Graduate  Doesn't have Medicaid/CHIP   \n",
       "1  30-40k        30-40k  College Graduate           Has Medicaid/CHIP   \n",
       "\n",
       "                PRIVATE_HI   ANY_HI   HEALTH_INSURANCE  \n",
       "0           Has Private HI  With HI     Has Private HI  \n",
       "1  Doesn't have Private HI  With HI  Has Medicaid/CHIP  "
      ]
     },
     "execution_count": 44,
     "metadata": {},
     "output_type": "execute_result"
    }
   ],
   "source": [
    "df = pd.read_pickle('cleaned_nsduh.pkl')\n",
    "df.head(2)"
   ]
  },
  {
   "cell_type": "markdown",
   "metadata": {},
   "source": [
    "## Demographic Information\n",
    "The first thing we'll analyse is the distribution of the relevant demographics of respondents in the dataset. This is done to check for oversampling. We're focused on the demographics that have the most influence on major life factors, like sex, income, and age."
   ]
  },
  {
   "cell_type": "code",
   "execution_count": 45,
   "metadata": {},
   "outputs": [
    {
     "name": "stdout",
     "output_type": "stream",
     "text": [
      "Sex Breakdown\n",
      "Female 0.5196 %\n",
      "Male 0.4804 %\n",
      "\n",
      "Difference between Females and Men\n",
      "3.91 %\n"
     ]
    }
   ],
   "source": [
    "pmf_a = Pmf(df[\"SEX\"])\n",
    "\n",
    "print(\"Sex Breakdown\")\n",
    "for a in pmf_a:\n",
    "    print(a, round(pmf_a[a], 4), \"%\")\n",
    "    \n",
    "print(\"\\nDifference between Females and Men\")\n",
    "diff = (pmf_a[\"Female\"] - pmf_a[\"Male\"])*100\n",
    "print(round(diff, 2), \"%\")"
   ]
  },
  {
   "cell_type": "markdown",
   "metadata": {},
   "source": [
    "The difference in percentages between female and male respondents is 3.91%, which is not large enough to create an oversampling concern."
   ]
  },
  {
   "cell_type": "code",
   "execution_count": 46,
   "metadata": {},
   "outputs": [
    {
     "data": {
      "image/png": "[encoded data removed]",
      "text/plain": [
       "<matplotlib.figure.Figure at 0x238177448d0>"
      ]
     },
     "metadata": {},
     "output_type": "display_data"
    }
   ],
   "source": [
    "pmf_a = Pmf(df[\"AGE\"])\n",
    "thinkplot.Hist(pmf_a)\n",
    "plt.xticks(np.arange(0, 17, step=1), rotation='vertical')\n",
    "decorate(ylabel='Probability', title = 'Age Breakdown')"
   ]
  },
  {
   "cell_type": "code",
   "execution_count": 47,
   "metadata": {},
   "outputs": [
    {
     "name": "stdout",
     "output_type": "stream",
     "text": [
      "Percentage of respondents per age in each group (total % of respondents per range/age range)\n",
      "\n",
      "12-17:  4.877 %\n",
      "18-21:  2.348 %\n",
      "22-23:  3.159 %\n",
      "24-25:  3.269 %\n",
      "26-29:  2.363 %\n",
      "30-34:  2.131 %\n",
      "35-49:  1.423 %\n",
      "50-64:  0.634 %\n",
      "65+ (No division):  6.605 %\n"
     ]
    }
   ],
   "source": [
    "print(\"Percentage of respondents per age in each group (total % of respondents per range/age range)\\n\")\n",
    "\n",
    "print(\"12-17: \", round(((pmf_a[\"12\"]+pmf_a[\"13\"]+pmf_a[\"14\"]+pmf_a[\"15\"]+pmf_a[\"16\"]+pmf_a[\"17\"])/5)*100, 3), \"%\")\n",
    "print(\"18-21: \", round(((pmf_a[\"18\"]+pmf_a[\"19\"]+pmf_a[\"20\"]+pmf_a[\"21\"])/5)*100, 3), \"%\")\n",
    "print(\"22-23: \", round(((pmf_a[\"22-23\"])/2)*100, 3), \"%\")\n",
    "print(\"24-25: \", round(((pmf_a[\"24-25\"])/2)*100, 3), \"%\")\n",
    "print(\"26-29: \", round(((pmf_a[\"26-29\"])/3)*100, 3), \"%\")\n",
    "print(\"30-34: \", round(((pmf_a[\"30-34\"])/4)*100, 3), \"%\")\n",
    "print(\"35-49: \", round(((pmf_a[\"35-49\"])/14)*100, 3), \"%\")\n",
    "print(\"50-64: \", round(((pmf_a[\"50-64\"])/14)*100, 3), \"%\")\n",
    "print(\"65+ (No division): \", round((pmf_a[\"65+\"]*100), 3), \"%\")"
   ]
  },
  {
   "cell_type": "markdown",
   "metadata": {},
   "source": [
    "This visual distribution can be misleading because we have different range sizes of ages for every category, so we need to be extra careful while analysing.\n",
    "Ages 12 to 21 are treated as seperate categories for each age, while the others are categorized by age ranges. By summing the proportions of ages 12-17 (minors) we can see that they represent a huge part of the dataset. If we consider the 12-21 year old range, they represent 36% of the respondents in the dataset. When normalizing for how many people of each age there are in the whole sample, each age between 12-17 makes up an average of 4.9% of the population. This is a relatively large proportion, so we have to consider oversampling for young people.\n"
   ]
  },
  {
   "cell_type": "code",
   "execution_count": 48,
   "metadata": {},
   "outputs": [
    {
     "data": {
      "image/png": "[encoded data removed]",
      "text/plain": [
       "<matplotlib.figure.Figure at 0x23817442160>"
      ]
     },
     "metadata": {},
     "output_type": "display_data"
    }
   ],
   "source": [
    "pmf_a = Pmf(df[\"HEALTH_INSURANCE\"])\n",
    "thinkplot.Hist(pmf_a)\n",
    "plt.xticks(np.arange(0, 4, step=1), rotation='vertical')\n",
    "decorate(ylabel='Probability', title = 'Health Insurance Breakdown')"
   ]
  },
  {
   "cell_type": "code",
   "execution_count": 49,
   "metadata": {},
   "outputs": [
    {
     "name": "stdout",
     "output_type": "stream",
     "text": [
      "Percentages\n",
      "Has Private HI 59.8 %\n",
      "Has Medicaid/CHIP 23.61 %\n",
      "Without any HI 9.4 %\n",
      "Has any other HI 7.19 %\n"
     ]
    }
   ],
   "source": [
    "print(\"Percentages\")\n",
    "for a in pmf_a:\n",
    "    print(a, round(pmf_a[a] * 100, 2) , \"%\")"
   ]
  },
  {
   "cell_type": "markdown",
   "metadata": {},
   "source": [
    "Most people have Private Health Insurance in this dataset, so this alse needs to be taken into consideration. Nearly 60% of the respondents have some type of private health insurance, so we will control for this in our investigation."
   ]
  },
  {
   "cell_type": "code",
   "execution_count": 52,
   "metadata": {},
   "outputs": [
    {
     "data": {
      "image/png": "[encoded data removed]",
      "text/plain": [
       "<matplotlib.figure.Figure at 0x2381750b278>"
      ]
     },
     "metadata": {},
     "output_type": "display_data"
    }
   ],
   "source": [
    "pmf_a = Pmf(df[\"INCOME\"])\n",
    "thinkplot.Hist(pmf_a)\n",
    "plt.xticks(np.arange(0, 7, step=1), rotation='vertical')\n",
    "decorate(ylabel='Probability', title = 'Income Breakdown')"
   ]
  },
  {
   "cell_type": "markdown",
   "metadata": {},
   "source": [
    "A large proportion are 12-21 year olds, so that's a likely reason why the 10k or less category is has the highest proportion. Family Income can paint a more complete picture for those who are too young to make their own salary."
   ]
  },
  {
   "cell_type": "code",
   "execution_count": 51,
   "metadata": {
    "scrolled": true
   },
   "outputs": [
    {
     "data": {
      "image/png": "[encoded data removed]",
      "text/plain": [
       "<matplotlib.figure.Figure at 0x23817510208>"
      ]
     },
     "metadata": {},
     "output_type": "display_data"
    }
   ],
   "source": [
    "pmf_a = Pmf(df[\"FAMILY_INCOME\"])\n",
    "thinkplot.Hist(pmf_a)\n",
    "plt.xticks(np.arange(0, 7, step=1), rotation='vertical')\n",
    "decorate(ylabel='Probability', title = 'Family Income Breakdown')"
   ]
  },
  {
   "cell_type": "markdown",
   "metadata": {},
   "source": [
    "Family Income has a better approach because it is not as dependant on the respondent's age. As we can see, the 75k+ category is higher, which is a likely reason why respondents in this dataset are more likely to have a private health insurance."
   ]
  },
  {
   "cell_type": "code",
   "execution_count": 15,
   "metadata": {},
   "outputs": [
    {
     "data": {
      "image/png": "[encoded data removed]",
      "text/plain": [
       "<matplotlib.figure.Figure at 0x23817378f28>"
      ]
     },
     "metadata": {},
     "output_type": "display_data"
    }
   ],
   "source": [
    "pmf_a = Pmf(df[\"EDUCATION\"])\n",
    "thinkplot.Hist(pmf_a, width=width)\n",
    "plt.xticks(np.arange(0, 5, step=1), rotation='vertical')\n",
    "decorate(ylabel='Probability', title = 'Education Breakdown')"
   ]
  },
  {
   "cell_type": "markdown",
   "metadata": {},
   "source": [
    "Most of the respondents over 17 years old have at least finished High School. Only 10% of the respondents have less than High School education, which makes this group slightly underrepresented in the dataset. This is unsuprising given the economic factors."
   ]
  },
  {
   "cell_type": "markdown",
   "metadata": {},
   "source": [
    "## Demographic: Comparing two groups\n",
    "##### Private health insurance vs Others\n",
    "\n",
    "We will be investigating differences in opioid use between those with private health insurance and those without, so it is important to note if there are other demographic differences to take into account. "
   ]
  },
  {
   "cell_type": "code",
   "execution_count": 16,
   "metadata": {
    "collapsed": true
   },
   "outputs": [],
   "source": [
    "nopriv_hi = df[df.HEALTH_INSURANCE != \"Has Private HI\"]\n",
    "priv_hi = df[df.HEALTH_INSURANCE == \"Has Private HI\"]\n",
    "medicaid = df[df.HEALTH_INSURANCE == \"Has Medicaid/CHIP\"]\n",
    "no_hi = df[df.HEALTH_INSURANCE == \"Without any HI\"]"
   ]
  },
  {
   "cell_type": "code",
   "execution_count": 17,
   "metadata": {},
   "outputs": [
    {
     "data": {
      "image/png": "[encoded data removed]",
      "text/plain": [
       "<matplotlib.figure.Figure at 0x238172ebdd8>"
      ]
     },
     "metadata": {},
     "output_type": "display_data"
    }
   ],
   "source": [
    "pmf_a = Pmf(nopriv_hi[\"SEX\"], label='Others')\n",
    "pmf_b = Pmf(priv_hi[\"SEX\"], label='Private Health Insurance')\n",
    "thinkplot.Hist(pmf_a, align=\"right\", width=width)\n",
    "thinkplot.Hist(pmf_b, align=\"left\", width=width)\n",
    "plt.xticks(np.arange(0, 4, step=1), rotation='vertical')\n",
    "decorate(ylabel='Probability', title='Sex Breakdown', loc='lower right')"
   ]
  },
  {
   "cell_type": "markdown",
   "metadata": {},
   "source": [
    "Comparing both groups, we can see that there are small sex differences between the groups. Those who don't have private health insurance are slightly more likely to be female. This change is small enough that we will not investigate it."
   ]
  },
  {
   "cell_type": "code",
   "execution_count": 18,
   "metadata": {},
   "outputs": [
    {
     "data": {
      "image/png": "[encoded data removed]",
      "text/plain": [
       "<matplotlib.figure.Figure at 0x238175ff358>"
      ]
     },
     "metadata": {},
     "output_type": "display_data"
    }
   ],
   "source": [
    "pmf_a = Pmf(nopriv_hi[\"AGE\"], label='Others')\n",
    "pmf_b = Pmf(priv_hi[\"AGE\"], label='Private Health Insurance')\n",
    "thinkplot.Hist(pmf_a, align=\"right\", width=width)\n",
    "thinkplot.Hist(pmf_b, align=\"left\", width=width)\n",
    "plt.xticks(np.arange(0, 18, step=1), rotation='vertical')\n",
    "decorate(ylabel='Probability', title='Age Breakdown', loc='upper left')"
   ]
  },
  {
   "cell_type": "markdown",
   "metadata": {},
   "source": [
    "Looking at the age PMF for both groups, it is pretty visible that it is more common to have private health insurance in the 35-49 and 50-64 age range. This may be due to age related or cohort related financial factors."
   ]
  },
  {
   "cell_type": "code",
   "execution_count": 19,
   "metadata": {},
   "outputs": [
    {
     "data": {
      "image/png": "[encoded data removed]",
      "text/plain": [
       "<matplotlib.figure.Figure at 0x238175ff5c0>"
      ]
     },
     "metadata": {},
     "output_type": "display_data"
    }
   ],
   "source": [
    "pmf_a = Pmf(nopriv_hi[\"FAMILY_INCOME\"], label='Others')\n",
    "pmf_b = Pmf(priv_hi[\"FAMILY_INCOME\"], label='Private Health Insurance')\n",
    "thinkplot.Hist(pmf_a, align=\"right\", width=width)\n",
    "thinkplot.Hist(pmf_b, align=\"left\", width=width)\n",
    "plt.xticks(np.arange(0, 7, step=1), rotation='vertical')\n",
    "decorate(ylabel='Probability', title='Family Income Breakdown', loc='upper left')"
   ]
  },
  {
   "cell_type": "markdown",
   "metadata": {},
   "source": [
    "People with private insurance tend to be much wealthier than those without. This is unsuprising due to the cost of insurance."
   ]
  },
  {
   "cell_type": "code",
   "execution_count": 20,
   "metadata": {},
   "outputs": [
    {
     "data": {
      "image/png": "[encoded data removed]",
      "text/plain": [
       "<matplotlib.figure.Figure at 0x238176035f8>"
      ]
     },
     "metadata": {},
     "output_type": "display_data"
    }
   ],
   "source": [
    "pmf_a = Pmf(nopriv_hi[\"EDUCATION\"], label='Others')\n",
    "pmf_b = Pmf(priv_hi[\"EDUCATION\"], label='Private Health Insurance')\n",
    "thinkplot.Hist(pmf_a, align=\"right\", width=width)\n",
    "thinkplot.Hist(pmf_b, align=\"left\", width=width)\n",
    "plt.xticks(np.arange(0, 10, step=1), rotation='vertical')\n",
    "decorate(ylabel='Probability', title='Education Breakdown', loc='upper right')"
   ]
  },
  {
   "cell_type": "markdown",
   "metadata": {},
   "source": [
    "As expected, people who have private health insurance tend to have higher education levels than the other group."
   ]
  },
  {
   "cell_type": "markdown",
   "metadata": {},
   "source": [
    "\n",
    "# Health Insurance and Painkiller use\n",
    "\n",
    "Now that we have investigated demographic factors, we can dive into the differences in opioid use and abuse. We will start by focusing on use of any kind (prescribed or not) of prescription painkillers. \n",
    "\n",
    "Note: the following pain-relievers were defined as prescription pain relievers (excluding \"over-the-counter\" pain relievers such as aspirin, Tylenol, Advil, or Aleve). A picture of common prescription pain relievers, was presented to the survey taker to help with identification.\n"
   ]
  },
  {
   "cell_type": "code",
   "execution_count": 21,
   "metadata": {
    "collapsed": true
   },
   "outputs": [],
   "source": [
    "df['USED_VS_NOTUSED_PK'] = [\"Used\" if value!=\"Never used\" else \"Never used\" for value in df['PRES_PAINKILLER_USE']]\n",
    "df['MISUSED_VS_NOTMISUSED_PK'] = [\"Misused\" if value!=\"Never misused\" else \"Never misused\" for value in df['REC_PAINKILLER_MISUSE']]"
   ]
  },
  {
   "cell_type": "code",
   "execution_count": 22,
   "metadata": {},
   "outputs": [
    {
     "data": {
      "text/html": [
       "<div>\n",
       "<style>\n",
       "    .dataframe thead tr:only-child th {\n",
       "        text-align: right;\n",
       "    }\n",
       "\n",
       "    .dataframe thead th {\n",
       "        text-align: left;\n",
       "    }\n",
       "\n",
       "    .dataframe tbody tr th {\n",
       "        vertical-align: top;\n",
       "    }\n",
       "</style>\n",
       "<table border=\"1\" class=\"dataframe\">\n",
       "  <thead>\n",
       "    <tr style=\"text-align: right;\">\n",
       "      <th>Used Prescription Painkillers</th>\n",
       "      <th>Never used</th>\n",
       "      <th>Used</th>\n",
       "    </tr>\n",
       "    <tr>\n",
       "      <th>Health Insurance</th>\n",
       "      <th></th>\n",
       "      <th></th>\n",
       "    </tr>\n",
       "  </thead>\n",
       "  <tbody>\n",
       "    <tr>\n",
       "      <th>Has Medicaid/CHIP</th>\n",
       "      <td>54.911</td>\n",
       "      <td>45.089</td>\n",
       "    </tr>\n",
       "    <tr>\n",
       "      <th>Has Private HI</th>\n",
       "      <td>42.340</td>\n",
       "      <td>57.660</td>\n",
       "    </tr>\n",
       "    <tr>\n",
       "      <th>Has any other HI</th>\n",
       "      <td>42.352</td>\n",
       "      <td>57.648</td>\n",
       "    </tr>\n",
       "    <tr>\n",
       "      <th>Without any HI</th>\n",
       "      <td>52.591</td>\n",
       "      <td>47.409</td>\n",
       "    </tr>\n",
       "    <tr>\n",
       "      <th>All</th>\n",
       "      <td>46.272</td>\n",
       "      <td>53.728</td>\n",
       "    </tr>\n",
       "  </tbody>\n",
       "</table>\n",
       "</div>"
      ],
      "text/plain": [
       "Used Prescription Painkillers  Never used    Used\n",
       "Health Insurance                                 \n",
       "Has Medicaid/CHIP                  54.911  45.089\n",
       "Has Private HI                     42.340  57.660\n",
       "Has any other HI                   42.352  57.648\n",
       "Without any HI                     52.591  47.409\n",
       "All                                46.272  53.728"
      ]
     },
     "execution_count": 22,
     "metadata": {},
     "output_type": "execute_result"
    }
   ],
   "source": [
    "ct = pd.crosstab(df[\"HEALTH_INSURANCE\"], df[\"USED_VS_NOTUSED_PK\"], \n",
    "                 rownames=['Health Insurance'], colnames=['Used Prescription Painkillers'], \n",
    "                 margins=True, normalize='index')\n",
    "(ct*100).round(decimals=3)"
   ]
  },
  {
   "cell_type": "code",
   "execution_count": 23,
   "metadata": {},
   "outputs": [
    {
     "data": {
      "text/html": [
       "<div>\n",
       "<style>\n",
       "    .dataframe thead tr:only-child th {\n",
       "        text-align: right;\n",
       "    }\n",
       "\n",
       "    .dataframe thead th {\n",
       "        text-align: left;\n",
       "    }\n",
       "\n",
       "    .dataframe tbody tr th {\n",
       "        vertical-align: top;\n",
       "    }\n",
       "</style>\n",
       "<table border=\"1\" class=\"dataframe\">\n",
       "  <thead>\n",
       "    <tr style=\"text-align: right;\">\n",
       "      <th>Used Prescription Painkillers</th>\n",
       "      <th>Used within year</th>\n",
       "      <th>Used in 12+ months</th>\n",
       "      <th>Never used</th>\n",
       "    </tr>\n",
       "    <tr>\n",
       "      <th>Health Insurance</th>\n",
       "      <th></th>\n",
       "      <th></th>\n",
       "      <th></th>\n",
       "    </tr>\n",
       "  </thead>\n",
       "  <tbody>\n",
       "    <tr>\n",
       "      <th>Has Medicaid/CHIP</th>\n",
       "      <td>32.189</td>\n",
       "      <td>12.900</td>\n",
       "      <td>54.911</td>\n",
       "    </tr>\n",
       "    <tr>\n",
       "      <th>Has Private HI</th>\n",
       "      <td>29.004</td>\n",
       "      <td>28.656</td>\n",
       "      <td>42.340</td>\n",
       "    </tr>\n",
       "    <tr>\n",
       "      <th>Has any other HI</th>\n",
       "      <td>34.198</td>\n",
       "      <td>23.449</td>\n",
       "      <td>42.352</td>\n",
       "    </tr>\n",
       "    <tr>\n",
       "      <th>Without any HI</th>\n",
       "      <td>28.177</td>\n",
       "      <td>19.232</td>\n",
       "      <td>52.591</td>\n",
       "    </tr>\n",
       "    <tr>\n",
       "      <th>All</th>\n",
       "      <td>30.052</td>\n",
       "      <td>23.676</td>\n",
       "      <td>46.272</td>\n",
       "    </tr>\n",
       "  </tbody>\n",
       "</table>\n",
       "</div>"
      ],
      "text/plain": [
       "Used Prescription Painkillers  Used within year  Used in 12+ months  \\\n",
       "Health Insurance                                                      \n",
       "Has Medicaid/CHIP                        32.189              12.900   \n",
       "Has Private HI                           29.004              28.656   \n",
       "Has any other HI                         34.198              23.449   \n",
       "Without any HI                           28.177              19.232   \n",
       "All                                      30.052              23.676   \n",
       "\n",
       "Used Prescription Painkillers  Never used  \n",
       "Health Insurance                           \n",
       "Has Medicaid/CHIP                  54.911  \n",
       "Has Private HI                     42.340  \n",
       "Has any other HI                   42.352  \n",
       "Without any HI                     52.591  \n",
       "All                                46.272  "
      ]
     },
     "execution_count": 23,
     "metadata": {},
     "output_type": "execute_result"
    }
   ],
   "source": [
    "ct = pd.crosstab(df[\"HEALTH_INSURANCE\"], df[\"PRES_PAINKILLER_USE\"], \n",
    "                 rownames=['Health Insurance'], colnames=['Used Prescription Painkillers'], \n",
    "                 margins=True, normalize='index')\n",
    "(ct*100).round(decimals=3)"
   ]
  },
  {
   "cell_type": "code",
   "execution_count": null,
   "metadata": {},
   "outputs": [],
   "source": []
  },
  {
   "cell_type": "code",
   "execution_count": 36,
   "metadata": {},
   "outputs": [
    {
     "name": "stdout",
     "output_type": "stream",
     "text": [
      "Others\n",
      "Never used 52.12 %\n",
      "Used within year 31.61 %\n",
      "Used in 12+ months 16.27 %\n",
      "\n",
      "Private Health Insurance\n",
      "Never used 42.34 %\n",
      "Used within year 29.0 %\n",
      "Used in 12+ months 28.66 %\n",
      "\n",
      "Percentage increase of use in 12+ months in private versus other/no insurance\n",
      "12.39 %\n"
     ]
    },
    {
     "data": {
      "image/png": "[encoded data removed]",
      "text/plain": [
       "<matplotlib.figure.Figure at 0x238187aa550>"
      ]
     },
     "metadata": {},
     "output_type": "display_data"
    }
   ],
   "source": [
    "pmf_e = Pmf(nopriv_hi[\"PRES_PAINKILLER_USE\"])\n",
    "pmf_f = Pmf(priv_hi[\"PRES_PAINKILLER_USE\"])\n",
    "thinkplot.Hist(pmf_e, align='right', width=width, label = 'Others')\n",
    "thinkplot.Hist(pmf_f, align='left', width=width, label = 'Private Health Insurance')\n",
    "plt.xticks(np.arange(0, 3, step=1), rotation='vertical')\n",
    "thinkplot.Config(ylabel='probability', title=\"Recency of use of presctiption painkillers\")\n",
    "\n",
    "print(\"Others\")\n",
    "for e in pmf_e:\n",
    "    print(e, round(100 *pmf_e[e], 2), \"%\")\n",
    "\n",
    "print(\"\\nPrivate Health Insurance\")\n",
    "for f in pmf_f:\n",
    "    print(f, round(100 * pmf_f[f], 2) , \"%\")\n",
    "    \n",
    "diff = (pmf_f[\"Used in 12+ months\"] - pmf_e[\"Used in 12+ months\"])*100\n",
    "print(\"\\nPercentage difference of use in 12+ months in private versus other/no insurance\")\n",
    "print(round(diff, 2), \"%\")"
   ]
  },
  {
   "cell_type": "markdown",
   "metadata": {},
   "source": [
    "As we can see in the tables and PMF above, people who have private health insurance were more likely to have taken opioids. This raises the question of whether increased access is contributing to higher rates of opioid use. People who have Medicaid/CHIP were more likely to have taken painkillers within the year than people without insurance, but they were less likely to have used them more than a year ago. Most strikingly, people with private health insurance were 12.39% more likely to have used opioids most recently over a year ago, indicating that they had discontinued usage at higher rates. This suggests that those on Medicaid/CHIP are using these drugs for longer time periods, or that there has been a recent spike in opioid usage in this demographic. "
   ]
  },
  {
   "cell_type": "code",
   "execution_count": 20,
   "metadata": {},
   "outputs": [
    {
     "data": {
      "text/html": [
       "<div>\n",
       "<style>\n",
       "    .dataframe thead tr:only-child th {\n",
       "        text-align: right;\n",
       "    }\n",
       "\n",
       "    .dataframe thead th {\n",
       "        text-align: left;\n",
       "    }\n",
       "\n",
       "    .dataframe tbody tr th {\n",
       "        vertical-align: top;\n",
       "    }\n",
       "</style>\n",
       "<table border=\"1\" class=\"dataframe\">\n",
       "  <thead>\n",
       "    <tr style=\"text-align: right;\">\n",
       "      <th>Misused Prescription Painkillers</th>\n",
       "      <th>Misused</th>\n",
       "      <th>Never misused</th>\n",
       "    </tr>\n",
       "    <tr>\n",
       "      <th>Health Insurance</th>\n",
       "      <th></th>\n",
       "      <th></th>\n",
       "    </tr>\n",
       "  </thead>\n",
       "  <tbody>\n",
       "    <tr>\n",
       "      <th>Has Medicaid/CHIP</th>\n",
       "      <td>11.109</td>\n",
       "      <td>88.891</td>\n",
       "    </tr>\n",
       "    <tr>\n",
       "      <th>Has Private HI</th>\n",
       "      <td>10.112</td>\n",
       "      <td>89.888</td>\n",
       "    </tr>\n",
       "    <tr>\n",
       "      <th>Has any other HI</th>\n",
       "      <td>9.093</td>\n",
       "      <td>90.907</td>\n",
       "    </tr>\n",
       "    <tr>\n",
       "      <th>Without any HI</th>\n",
       "      <td>12.916</td>\n",
       "      <td>87.084</td>\n",
       "    </tr>\n",
       "    <tr>\n",
       "      <th>All</th>\n",
       "      <td>10.537</td>\n",
       "      <td>89.463</td>\n",
       "    </tr>\n",
       "  </tbody>\n",
       "</table>\n",
       "</div>"
      ],
      "text/plain": [
       "Misused Prescription Painkillers  Misused  Never misused\n",
       "Health Insurance                                        \n",
       "Has Medicaid/CHIP                  11.109         88.891\n",
       "Has Private HI                     10.112         89.888\n",
       "Has any other HI                    9.093         90.907\n",
       "Without any HI                     12.916         87.084\n",
       "All                                10.537         89.463"
      ]
     },
     "execution_count": 20,
     "metadata": {},
     "output_type": "execute_result"
    }
   ],
   "source": [
    "ct = pd.crosstab(df[\"HEALTH_INSURANCE\"], df[\"MISUSED_VS_NOTMISUSED_PK\"],\n",
    "                 rownames=['Health Insurance'], colnames=['Misused Prescription Painkillers'],\n",
    "                  margins=True, normalize='index')\n",
    "(ct*100).round(decimals=3)"
   ]
  },
  {
   "cell_type": "code",
   "execution_count": 22,
   "metadata": {},
   "outputs": [
    {
     "data": {
      "text/html": [
       "<div>\n",
       "<style>\n",
       "    .dataframe thead tr:only-child th {\n",
       "        text-align: right;\n",
       "    }\n",
       "\n",
       "    .dataframe thead th {\n",
       "        text-align: left;\n",
       "    }\n",
       "\n",
       "    .dataframe tbody tr th {\n",
       "        vertical-align: top;\n",
       "    }\n",
       "</style>\n",
       "<table border=\"1\" class=\"dataframe\">\n",
       "  <thead>\n",
       "    <tr style=\"text-align: right;\">\n",
       "      <th>Misused Prescription Painkillers</th>\n",
       "      <th>Misused in last 30 days</th>\n",
       "      <th>Misused 31 days-12 months</th>\n",
       "      <th>Misused 12+ months</th>\n",
       "      <th>Never misused</th>\n",
       "    </tr>\n",
       "    <tr>\n",
       "      <th>Health Insurance</th>\n",
       "      <th></th>\n",
       "      <th></th>\n",
       "      <th></th>\n",
       "      <th></th>\n",
       "    </tr>\n",
       "  </thead>\n",
       "  <tbody>\n",
       "    <tr>\n",
       "      <th>Has Medicaid/CHIP</th>\n",
       "      <td>1.957</td>\n",
       "      <td>4.260</td>\n",
       "      <td>4.892</td>\n",
       "      <td>88.891</td>\n",
       "    </tr>\n",
       "    <tr>\n",
       "      <th>Has Private HI</th>\n",
       "      <td>1.037</td>\n",
       "      <td>3.046</td>\n",
       "      <td>6.029</td>\n",
       "      <td>89.888</td>\n",
       "    </tr>\n",
       "    <tr>\n",
       "      <th>Has any other HI</th>\n",
       "      <td>1.334</td>\n",
       "      <td>2.891</td>\n",
       "      <td>4.868</td>\n",
       "      <td>90.907</td>\n",
       "    </tr>\n",
       "    <tr>\n",
       "      <th>Without any HI</th>\n",
       "      <td>2.402</td>\n",
       "      <td>4.293</td>\n",
       "      <td>6.222</td>\n",
       "      <td>87.084</td>\n",
       "    </tr>\n",
       "    <tr>\n",
       "      <th>All</th>\n",
       "      <td>1.404</td>\n",
       "      <td>3.438</td>\n",
       "      <td>5.695</td>\n",
       "      <td>89.463</td>\n",
       "    </tr>\n",
       "  </tbody>\n",
       "</table>\n",
       "</div>"
      ],
      "text/plain": [
       "Misused Prescription Painkillers  Misused in last 30 days  \\\n",
       "Health Insurance                                            \n",
       "Has Medicaid/CHIP                                   1.957   \n",
       "Has Private HI                                      1.037   \n",
       "Has any other HI                                    1.334   \n",
       "Without any HI                                      2.402   \n",
       "All                                                 1.404   \n",
       "\n",
       "Misused Prescription Painkillers  Misused 31 days-12 months  \\\n",
       "Health Insurance                                              \n",
       "Has Medicaid/CHIP                                     4.260   \n",
       "Has Private HI                                        3.046   \n",
       "Has any other HI                                      2.891   \n",
       "Without any HI                                        4.293   \n",
       "All                                                   3.438   \n",
       "\n",
       "Misused Prescription Painkillers  Misused 12+ months  Never misused  \n",
       "Health Insurance                                                     \n",
       "Has Medicaid/CHIP                              4.892         88.891  \n",
       "Has Private HI                                 6.029         89.888  \n",
       "Has any other HI                               4.868         90.907  \n",
       "Without any HI                                 6.222         87.084  \n",
       "All                                            5.695         89.463  "
      ]
     },
     "execution_count": 22,
     "metadata": {},
     "output_type": "execute_result"
    }
   ],
   "source": [
    "ct = pd.crosstab(df[\"HEALTH_INSURANCE\"], df[\"REC_PAINKILLER_MISUSE\"],\n",
    "                 rownames=['Health Insurance'], colnames=['Misused Prescription Painkillers'],\n",
    "                  margins=True, normalize='index')\n",
    "(ct*100).round(decimals=3)"
   ]
  },
  {
   "cell_type": "markdown",
   "metadata": {},
   "source": [
    "Misuse of prescription drugs is defined as use in any way not directed by a doctor, including use without a prescription of one's own medication; use in greater amounts, more often, or longer than told to take a drug; or use in any other way not directed by a doctor. \n",
    "\n",
    "As we can see from the two tables above, there are a few small differences between the rates of misuse of the groups. In general, people without any health insurance are slightly more likely to have misused opioids in some way. It is also worth noting that those with private health insurance were more likely to have misused in the past, while those on Medicaid/CHIP were more likely to have misused recently."
   ]
  },
  {
   "cell_type": "code",
   "execution_count": 23,
   "metadata": {},
   "outputs": [
    {
     "data": {
      "text/html": [
       "<div>\n",
       "<style>\n",
       "    .dataframe thead tr:only-child th {\n",
       "        text-align: right;\n",
       "    }\n",
       "\n",
       "    .dataframe thead th {\n",
       "        text-align: left;\n",
       "    }\n",
       "\n",
       "    .dataframe tbody tr th {\n",
       "        vertical-align: top;\n",
       "    }\n",
       "</style>\n",
       "<table border=\"1\" class=\"dataframe\">\n",
       "  <thead>\n",
       "    <tr style=\"text-align: right;\">\n",
       "      <th>Used Prescription Painkillers</th>\n",
       "      <th>Used within year</th>\n",
       "      <th>Used in 12+ months</th>\n",
       "      <th>Never used</th>\n",
       "    </tr>\n",
       "    <tr>\n",
       "      <th>Any Health Insurance</th>\n",
       "      <th></th>\n",
       "      <th></th>\n",
       "      <th></th>\n",
       "    </tr>\n",
       "  </thead>\n",
       "  <tbody>\n",
       "    <tr>\n",
       "      <th>With HI</th>\n",
       "      <td>30.246</td>\n",
       "      <td>24.137</td>\n",
       "      <td>45.617</td>\n",
       "    </tr>\n",
       "    <tr>\n",
       "      <th>Without HI</th>\n",
       "      <td>28.177</td>\n",
       "      <td>19.232</td>\n",
       "      <td>52.591</td>\n",
       "    </tr>\n",
       "    <tr>\n",
       "      <th>All</th>\n",
       "      <td>30.052</td>\n",
       "      <td>23.676</td>\n",
       "      <td>46.272</td>\n",
       "    </tr>\n",
       "  </tbody>\n",
       "</table>\n",
       "</div>"
      ],
      "text/plain": [
       "Used Prescription Painkillers  Used within year  Used in 12+ months  \\\n",
       "Any Health Insurance                                                  \n",
       "With HI                                  30.246              24.137   \n",
       "Without HI                               28.177              19.232   \n",
       "All                                      30.052              23.676   \n",
       "\n",
       "Used Prescription Painkillers  Never used  \n",
       "Any Health Insurance                       \n",
       "With HI                            45.617  \n",
       "Without HI                         52.591  \n",
       "All                                46.272  "
      ]
     },
     "execution_count": 23,
     "metadata": {},
     "output_type": "execute_result"
    }
   ],
   "source": [
    "ct = pd.crosstab(df[\"ANY_HI\"], df[\"PRES_PAINKILLER_USE\"], \n",
    "                 rownames=['Any Health Insurance'], colnames=['Used Prescription Painkillers'],\n",
    "                 margins=True, normalize=\"index\")\n",
    "(ct*100).round(decimals=3)"
   ]
  },
  {
   "cell_type": "markdown",
   "metadata": {},
   "source": [
    "However, by sorting people with and without any health insurance, we can see that having any type of health insurance seems to be related to increased opioid use in the short and long term."
   ]
  },
  {
   "cell_type": "markdown",
   "metadata": {},
   "source": [
    "#### Filtering by: History of painkiller use\n",
    "\n",
    "In order to analyze recency and duration of use, we will filter out anyone who has never used opioids since they will always have null results. With that, we can see a higher relative difference in the variables."
   ]
  },
  {
   "cell_type": "code",
   "execution_count": 24,
   "metadata": {
    "collapsed": true
   },
   "outputs": [],
   "source": [
    "used_pk = df[df.PRES_PAINKILLER_USE != \"Never used\"]"
   ]
  },
  {
   "cell_type": "code",
   "execution_count": 25,
   "metadata": {},
   "outputs": [
    {
     "data": {
      "text/html": [
       "<div>\n",
       "<style>\n",
       "    .dataframe thead tr:only-child th {\n",
       "        text-align: right;\n",
       "    }\n",
       "\n",
       "    .dataframe thead th {\n",
       "        text-align: left;\n",
       "    }\n",
       "\n",
       "    .dataframe tbody tr th {\n",
       "        vertical-align: top;\n",
       "    }\n",
       "</style>\n",
       "<table border=\"1\" class=\"dataframe\">\n",
       "  <thead>\n",
       "    <tr style=\"text-align: right;\">\n",
       "      <th>Used Prescription Painkillers</th>\n",
       "      <th>Used within year</th>\n",
       "      <th>Used in 12+ months</th>\n",
       "    </tr>\n",
       "    <tr>\n",
       "      <th>Health Insurance</th>\n",
       "      <th></th>\n",
       "      <th></th>\n",
       "    </tr>\n",
       "  </thead>\n",
       "  <tbody>\n",
       "    <tr>\n",
       "      <th>Has Medicaid/CHIP</th>\n",
       "      <td>71.390</td>\n",
       "      <td>28.610</td>\n",
       "    </tr>\n",
       "    <tr>\n",
       "      <th>Has Private HI</th>\n",
       "      <td>50.301</td>\n",
       "      <td>49.699</td>\n",
       "    </tr>\n",
       "    <tr>\n",
       "      <th>Has any other HI</th>\n",
       "      <td>59.323</td>\n",
       "      <td>40.677</td>\n",
       "    </tr>\n",
       "    <tr>\n",
       "      <th>Without any HI</th>\n",
       "      <td>59.434</td>\n",
       "      <td>40.566</td>\n",
       "    </tr>\n",
       "    <tr>\n",
       "      <th>All</th>\n",
       "      <td>55.933</td>\n",
       "      <td>44.067</td>\n",
       "    </tr>\n",
       "  </tbody>\n",
       "</table>\n",
       "</div>"
      ],
      "text/plain": [
       "Used Prescription Painkillers  Used within year  Used in 12+ months\n",
       "Health Insurance                                                   \n",
       "Has Medicaid/CHIP                        71.390              28.610\n",
       "Has Private HI                           50.301              49.699\n",
       "Has any other HI                         59.323              40.677\n",
       "Without any HI                           59.434              40.566\n",
       "All                                      55.933              44.067"
      ]
     },
     "execution_count": 25,
     "metadata": {},
     "output_type": "execute_result"
    }
   ],
   "source": [
    "ct = pd.crosstab(used_pk[\"HEALTH_INSURANCE\"], used_pk[\"PRES_PAINKILLER_USE\"],\n",
    "                 rownames=['Health Insurance'], colnames=['Used Prescription Painkillers'],\n",
    "                 margins=True, normalize='index')\n",
    "(ct*100).round(decimals=3)"
   ]
  },
  {
   "cell_type": "markdown",
   "metadata": {},
   "source": [
    "Of those who had ever used prescription painkillers, those on Medicaid/CHIP had a much higher chance of taking them recently than the other groups. People who have private health insurance were more likely to have taken them in the past."
   ]
  },
  {
   "cell_type": "code",
   "execution_count": 26,
   "metadata": {},
   "outputs": [
    {
     "data": {
      "text/html": [
       "<div>\n",
       "<style>\n",
       "    .dataframe thead tr:only-child th {\n",
       "        text-align: right;\n",
       "    }\n",
       "\n",
       "    .dataframe thead th {\n",
       "        text-align: left;\n",
       "    }\n",
       "\n",
       "    .dataframe tbody tr th {\n",
       "        vertical-align: top;\n",
       "    }\n",
       "</style>\n",
       "<table border=\"1\" class=\"dataframe\">\n",
       "  <thead>\n",
       "    <tr style=\"text-align: right;\">\n",
       "      <th>Misused Prescription Painkillers</th>\n",
       "      <th>Misused in last 30 days</th>\n",
       "      <th>Misused 31 days-12 months</th>\n",
       "      <th>Misused 12+ months</th>\n",
       "      <th>Never misused</th>\n",
       "    </tr>\n",
       "    <tr>\n",
       "      <th>Health Insurance</th>\n",
       "      <th></th>\n",
       "      <th></th>\n",
       "      <th></th>\n",
       "      <th></th>\n",
       "    </tr>\n",
       "  </thead>\n",
       "  <tbody>\n",
       "    <tr>\n",
       "      <th>Has Medicaid/CHIP</th>\n",
       "      <td>4.340</td>\n",
       "      <td>9.448</td>\n",
       "      <td>10.850</td>\n",
       "      <td>75.363</td>\n",
       "    </tr>\n",
       "    <tr>\n",
       "      <th>Has Private HI</th>\n",
       "      <td>1.799</td>\n",
       "      <td>5.282</td>\n",
       "      <td>10.456</td>\n",
       "      <td>82.463</td>\n",
       "    </tr>\n",
       "    <tr>\n",
       "      <th>Has any other HI</th>\n",
       "      <td>2.315</td>\n",
       "      <td>5.015</td>\n",
       "      <td>8.444</td>\n",
       "      <td>84.226</td>\n",
       "    </tr>\n",
       "    <tr>\n",
       "      <th>Without any HI</th>\n",
       "      <td>5.066</td>\n",
       "      <td>9.055</td>\n",
       "      <td>13.123</td>\n",
       "      <td>72.756</td>\n",
       "    </tr>\n",
       "    <tr>\n",
       "      <th>All</th>\n",
       "      <td>2.613</td>\n",
       "      <td>6.400</td>\n",
       "      <td>10.600</td>\n",
       "      <td>80.388</td>\n",
       "    </tr>\n",
       "  </tbody>\n",
       "</table>\n",
       "</div>"
      ],
      "text/plain": [
       "Misused Prescription Painkillers  Misused in last 30 days  \\\n",
       "Health Insurance                                            \n",
       "Has Medicaid/CHIP                                   4.340   \n",
       "Has Private HI                                      1.799   \n",
       "Has any other HI                                    2.315   \n",
       "Without any HI                                      5.066   \n",
       "All                                                 2.613   \n",
       "\n",
       "Misused Prescription Painkillers  Misused 31 days-12 months  \\\n",
       "Health Insurance                                              \n",
       "Has Medicaid/CHIP                                     9.448   \n",
       "Has Private HI                                        5.282   \n",
       "Has any other HI                                      5.015   \n",
       "Without any HI                                        9.055   \n",
       "All                                                   6.400   \n",
       "\n",
       "Misused Prescription Painkillers  Misused 12+ months  Never misused  \n",
       "Health Insurance                                                     \n",
       "Has Medicaid/CHIP                             10.850         75.363  \n",
       "Has Private HI                                10.456         82.463  \n",
       "Has any other HI                               8.444         84.226  \n",
       "Without any HI                                13.123         72.756  \n",
       "All                                           10.600         80.388  "
      ]
     },
     "execution_count": 26,
     "metadata": {},
     "output_type": "execute_result"
    }
   ],
   "source": [
    "ct = pd.crosstab(used_pk[\"HEALTH_INSURANCE\"], used_pk[\"REC_PAINKILLER_MISUSE\"],\n",
    "                 rownames=['Health Insurance'], colnames=['Misused Prescription Painkillers'],\n",
    "                  margins=True, normalize='index')\n",
    "(ct*100).round(decimals=3)"
   ]
  },
  {
   "cell_type": "code",
   "execution_count": 27,
   "metadata": {
    "scrolled": true
   },
   "outputs": [
    {
     "data": {
      "image/png": "[encoded data removed]",
      "text/plain": [
       "<matplotlib.figure.Figure at 0x247b3895898>"
      ]
     },
     "metadata": {},
     "output_type": "display_data"
    }
   ],
   "source": [
    "pmf_a = Pmf(used_pk[\"REC_PAINKILLER_MISUSE\"])\n",
    "thinkplot.Hist(pmf_a)\n",
    "plt.xticks(np.arange(0, 4, step=1), rotation='vertical')\n",
    "decorate(ylabel='Probability', title='Recent painkiller misuse of those who have taken opiods')"
   ]
  },
  {
   "cell_type": "markdown",
   "metadata": {},
   "source": [
    "By only selecting people who have taken pain relievers at some point, the difference between the groups of health insurance become more apparent. Within this group, people without any health insurance and people with Medicaid/CHIP were more likely to have misused pain relievers."
   ]
  },
  {
   "cell_type": "code",
   "execution_count": 28,
   "metadata": {},
   "outputs": [
    {
     "data": {
      "text/html": [
       "<div>\n",
       "<style>\n",
       "    .dataframe thead tr:only-child th {\n",
       "        text-align: right;\n",
       "    }\n",
       "\n",
       "    .dataframe thead th {\n",
       "        text-align: left;\n",
       "    }\n",
       "\n",
       "    .dataframe tbody tr th {\n",
       "        vertical-align: top;\n",
       "    }\n",
       "</style>\n",
       "<table border=\"1\" class=\"dataframe\">\n",
       "  <thead>\n",
       "    <tr style=\"text-align: right;\">\n",
       "      <th>Used Prescription Painkillers</th>\n",
       "      <th>Used within year</th>\n",
       "      <th>Used in 12+ months</th>\n",
       "    </tr>\n",
       "    <tr>\n",
       "      <th>Any Health Insurance</th>\n",
       "      <th></th>\n",
       "      <th></th>\n",
       "    </tr>\n",
       "  </thead>\n",
       "  <tbody>\n",
       "    <tr>\n",
       "      <th>With HI</th>\n",
       "      <td>55.617</td>\n",
       "      <td>44.383</td>\n",
       "    </tr>\n",
       "    <tr>\n",
       "      <th>Without HI</th>\n",
       "      <td>59.434</td>\n",
       "      <td>40.566</td>\n",
       "    </tr>\n",
       "    <tr>\n",
       "      <th>All</th>\n",
       "      <td>55.933</td>\n",
       "      <td>44.067</td>\n",
       "    </tr>\n",
       "  </tbody>\n",
       "</table>\n",
       "</div>"
      ],
      "text/plain": [
       "Used Prescription Painkillers  Used within year  Used in 12+ months\n",
       "Any Health Insurance                                               \n",
       "With HI                                  55.617              44.383\n",
       "Without HI                               59.434              40.566\n",
       "All                                      55.933              44.067"
      ]
     },
     "execution_count": 28,
     "metadata": {},
     "output_type": "execute_result"
    }
   ],
   "source": [
    "ct = pd.crosstab(used_pk[\"ANY_HI\"], used_pk[\"PRES_PAINKILLER_USE\"], \n",
    "                 rownames=['Any Health Insurance'], colnames=['Used Prescription Painkillers'],\n",
    "                 margins=True, normalize=\"index\")\n",
    "(ct*100).round(decimals=3)"
   ]
  },
  {
   "cell_type": "code",
   "execution_count": 29,
   "metadata": {},
   "outputs": [
    {
     "data": {
      "image/png": "[encoded data removed]",
      "text/plain": [
       "<matplotlib.figure.Figure at 0x247b37642b0>"
      ]
     },
     "metadata": {},
     "output_type": "display_data"
    }
   ],
   "source": [
    "pmf_a = Pmf(used_pk[\"PRES_PAINKILLER_USE\"])\n",
    "thinkplot.Hist(pmf_a)\n",
    "plt.xticks(np.arange(0, 3, step=1), rotation='vertical')\n",
    "decorate(ylabel='Probability', title='Overall Likelihood of Recent Opioid Use for Past Users')"
   ]
  },
  {
   "cell_type": "markdown",
   "metadata": {},
   "source": [
    "Over half of all people who have ever tried opioids have continued to take them in the past year. Some of this could be because first time use was in the past year, but it is unlikely to be a majority. The more likely cause of this is that these people have continued their use over time."
   ]
  },
  {
   "cell_type": "markdown",
   "metadata": {},
   "source": [
    "Of those who had ever used prescription painkillers, those without any health insurance were more likely to have taken them recently (within a year). Yet again, this suggests continued versus past usage, or a recent spike in usage. A spike could be due to policy changes under Medicaid. If usage is continuing, that could be due to differences in treatment types and access to treatment. Those without private health insurance have limitations on frequencies of medical visits, as well as limitations on medical providers accessible. It is possible that since this care is often of lower quality that medication use isn't being treated as carefully by providers, or that alternate solutions are not being pursued.\n",
    "\n",
    "\n"
   ]
  },
  {
   "cell_type": "markdown",
   "metadata": {},
   "source": [
    "#### Filtering by: Ever misused painkillers\n",
    "\n",
    "In order to analyze continued misuse, we're going to filter the respondents for those who have ever misused painkillers. This will allow us to see better the relative difference within this group."
   ]
  },
  {
   "cell_type": "code",
   "execution_count": 30,
   "metadata": {
    "collapsed": true
   },
   "outputs": [],
   "source": [
    "misused_pk = df[df.REC_PAINKILLER_MISUSE != \"Never misused\"]"
   ]
  },
  {
   "cell_type": "code",
   "execution_count": 31,
   "metadata": {},
   "outputs": [
    {
     "data": {
      "text/html": [
       "<div>\n",
       "<style>\n",
       "    .dataframe thead tr:only-child th {\n",
       "        text-align: right;\n",
       "    }\n",
       "\n",
       "    .dataframe thead th {\n",
       "        text-align: left;\n",
       "    }\n",
       "\n",
       "    .dataframe tbody tr th {\n",
       "        vertical-align: top;\n",
       "    }\n",
       "</style>\n",
       "<table border=\"1\" class=\"dataframe\">\n",
       "  <thead>\n",
       "    <tr style=\"text-align: right;\">\n",
       "      <th>Misused Prescription Painkillers</th>\n",
       "      <th>Misused in last 30 days</th>\n",
       "      <th>Misused 31 days-12 months</th>\n",
       "      <th>Misused 12+ months</th>\n",
       "    </tr>\n",
       "    <tr>\n",
       "      <th>Health Insurance</th>\n",
       "      <th></th>\n",
       "      <th></th>\n",
       "      <th></th>\n",
       "    </tr>\n",
       "  </thead>\n",
       "  <tbody>\n",
       "    <tr>\n",
       "      <th>Has Medicaid/CHIP</th>\n",
       "      <td>17.615</td>\n",
       "      <td>38.347</td>\n",
       "      <td>44.038</td>\n",
       "    </tr>\n",
       "    <tr>\n",
       "      <th>Has Private HI</th>\n",
       "      <td>10.256</td>\n",
       "      <td>30.120</td>\n",
       "      <td>59.624</td>\n",
       "    </tr>\n",
       "    <tr>\n",
       "      <th>Has any other HI</th>\n",
       "      <td>14.674</td>\n",
       "      <td>31.793</td>\n",
       "      <td>53.533</td>\n",
       "    </tr>\n",
       "    <tr>\n",
       "      <th>Without any HI</th>\n",
       "      <td>18.594</td>\n",
       "      <td>33.236</td>\n",
       "      <td>48.170</td>\n",
       "    </tr>\n",
       "    <tr>\n",
       "      <th>All</th>\n",
       "      <td>13.322</td>\n",
       "      <td>32.631</td>\n",
       "      <td>54.047</td>\n",
       "    </tr>\n",
       "  </tbody>\n",
       "</table>\n",
       "</div>"
      ],
      "text/plain": [
       "Misused Prescription Painkillers  Misused in last 30 days  \\\n",
       "Health Insurance                                            \n",
       "Has Medicaid/CHIP                                  17.615   \n",
       "Has Private HI                                     10.256   \n",
       "Has any other HI                                   14.674   \n",
       "Without any HI                                     18.594   \n",
       "All                                                13.322   \n",
       "\n",
       "Misused Prescription Painkillers  Misused 31 days-12 months  \\\n",
       "Health Insurance                                              \n",
       "Has Medicaid/CHIP                                    38.347   \n",
       "Has Private HI                                       30.120   \n",
       "Has any other HI                                     31.793   \n",
       "Without any HI                                       33.236   \n",
       "All                                                  32.631   \n",
       "\n",
       "Misused Prescription Painkillers  Misused 12+ months  \n",
       "Health Insurance                                      \n",
       "Has Medicaid/CHIP                             44.038  \n",
       "Has Private HI                                59.624  \n",
       "Has any other HI                              53.533  \n",
       "Without any HI                                48.170  \n",
       "All                                           54.047  "
      ]
     },
     "execution_count": 31,
     "metadata": {},
     "output_type": "execute_result"
    }
   ],
   "source": [
    "ct = pd.crosstab(misused_pk[\"HEALTH_INSURANCE\"], misused_pk[\"REC_PAINKILLER_MISUSE\"],\n",
    "                 rownames=['Health Insurance'], colnames=['Misused Prescription Painkillers'],\n",
    "                  margins=True, normalize='index')\n",
    "(ct*100).round(decimals=3)"
   ]
  },
  {
   "cell_type": "code",
   "execution_count": 32,
   "metadata": {},
   "outputs": [
    {
     "data": {
      "image/png": "[encoded data removed]",
      "text/plain": [
       "<matplotlib.figure.Figure at 0x247b37a6d30>"
      ]
     },
     "metadata": {},
     "output_type": "display_data"
    }
   ],
   "source": [
    "pmf_a = Pmf(misused_pk[\"REC_PAINKILLER_MISUSE\"])\n",
    "thinkplot.Hist(pmf_a)\n",
    "plt.xticks(np.arange(0, 4, step=1), rotation='vertical')\n",
    "decorate(ylabel='Probability', title='Recent painkiller misuse of those who have taken opiods')"
   ]
  },
  {
   "cell_type": "markdown",
   "metadata": {},
   "source": [
    "This difference in probabilities of abuse between insurance types suggests that there is a factor related to health insurance that is causing abuse. We don't have enough data to say that the health insurance itself is the cause, but health insurance type is closely tied with socioeconomic factors, rates of disability, and military affiliation. This increase of continued use and abuse in those without private health insurance could also be due to the limit to access of care."
   ]
  }
 ],
 "metadata": {
  "kernelspec": {
   "display_name": "Python 3",
   "language": "python",
   "name": "python3"
  },
  "language_info": {
   "codemirror_mode": {
    "name": "ipython",
    "version": 3
   },
   "file_extension": ".py",
   "mimetype": "text/x-python",
   "name": "python",
   "nbconvert_exporter": "python",
   "pygments_lexer": "ipython3",
   "version": "3.6.1"
  }
 },
 "nbformat": 4,
 "nbformat_minor": 2
}
