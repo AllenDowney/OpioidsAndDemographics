{
 "cells": [
  {
   "cell_type": "markdown",
   "metadata": {},
   "source": [
    "# Project 1\n",
    "### Data Science\n",
    "### Filipe Borba & Micah Reid"
   ]
  },
  {
   "cell_type": "code",
   "execution_count": 2,
   "metadata": {},
   "outputs": [],
   "source": [
    "%matplotlib inline\n",
    "\n",
    "import pandas as pd\n",
    "import numpy as np\n",
    "\n",
    "import matplotlib.pyplot as plt\n",
    "import seaborn as sns\n",
    "sns.set(style='white')\n",
    "\n",
    "import utils\n",
    "from utils import decorate\n",
    "from thinkstats2 import Pmf, Cdf\n",
    "import thinkplot"
   ]
  },
  {
   "cell_type": "code",
   "execution_count": 3,
   "metadata": {},
   "outputs": [
    {
     "data": {
      "text/html": [
       "<div>\n",
       "<style scoped>\n",
       "    .dataframe tbody tr th:only-of-type {\n",
       "        vertical-align: middle;\n",
       "    }\n",
       "\n",
       "    .dataframe tbody tr th {\n",
       "        vertical-align: top;\n",
       "    }\n",
       "\n",
       "    .dataframe thead th {\n",
       "        text-align: right;\n",
       "    }\n",
       "</style>\n",
       "<table border=\"1\" class=\"dataframe\">\n",
       "  <thead>\n",
       "    <tr style=\"text-align: right;\">\n",
       "      <th></th>\n",
       "      <th>SEX</th>\n",
       "      <th>AGE</th>\n",
       "      <th>PRES_PAINKILLER_USE</th>\n",
       "      <th>REC_PAINKILLER_USE</th>\n",
       "      <th>REC_PAINKILLER_MISUSE</th>\n",
       "      <th>PRES_PAINKILLER_MISUSE</th>\n",
       "      <th>ANY_PAINKILLER_LIFETIME</th>\n",
       "      <th>OXYCONTIN_USE</th>\n",
       "      <th>OXYCONTIN_MISUSED</th>\n",
       "      <th>INCOME</th>\n",
       "      <th>FAMILY_INCOME</th>\n",
       "      <th>EDUCATION</th>\n",
       "      <th>CAIDCHIP_HI</th>\n",
       "      <th>PRIVATE_HI</th>\n",
       "      <th>ANY_HI</th>\n",
       "      <th>HEALTH_INSURANCE</th>\n",
       "    </tr>\n",
       "  </thead>\n",
       "  <tbody>\n",
       "    <tr>\n",
       "      <th>0</th>\n",
       "      <td>Male</td>\n",
       "      <td>65+</td>\n",
       "      <td>Never used</td>\n",
       "      <td>Never</td>\n",
       "      <td>Never misused</td>\n",
       "      <td>Never used</td>\n",
       "      <td>Not used</td>\n",
       "      <td>Not used in past year</td>\n",
       "      <td>Did not misuse - past year</td>\n",
       "      <td>75k+</td>\n",
       "      <td>75k+</td>\n",
       "      <td>College Graduate</td>\n",
       "      <td>Doesn't have Medicaid/CHIP</td>\n",
       "      <td>Has Private HI</td>\n",
       "      <td>With HI</td>\n",
       "      <td>Has Private HI</td>\n",
       "    </tr>\n",
       "    <tr>\n",
       "      <th>1</th>\n",
       "      <td>Male</td>\n",
       "      <td>35-49</td>\n",
       "      <td>Used in 12+ months</td>\n",
       "      <td>Never</td>\n",
       "      <td>Never misused</td>\n",
       "      <td>Used in 12+ months</td>\n",
       "      <td>Used</td>\n",
       "      <td>Not used in past year</td>\n",
       "      <td>Did not misuse - past year</td>\n",
       "      <td>30-40k</td>\n",
       "      <td>30-40k</td>\n",
       "      <td>College Graduate</td>\n",
       "      <td>Has Medicaid/CHIP</td>\n",
       "      <td>Doesn't have Private HI</td>\n",
       "      <td>With HI</td>\n",
       "      <td>Has Medicaid/CHIP</td>\n",
       "    </tr>\n",
       "  </tbody>\n",
       "</table>\n",
       "</div>"
      ],
      "text/plain": [
       "    SEX    AGE PRES_PAINKILLER_USE REC_PAINKILLER_USE REC_PAINKILLER_MISUSE  \\\n",
       "0  Male    65+          Never used              Never         Never misused   \n",
       "1  Male  35-49  Used in 12+ months              Never         Never misused   \n",
       "\n",
       "  PRES_PAINKILLER_MISUSE ANY_PAINKILLER_LIFETIME          OXYCONTIN_USE  \\\n",
       "0             Never used                Not used  Not used in past year   \n",
       "1     Used in 12+ months                    Used  Not used in past year   \n",
       "\n",
       "            OXYCONTIN_MISUSED  INCOME FAMILY_INCOME         EDUCATION  \\\n",
       "0  Did not misuse - past year    75k+          75k+  College Graduate   \n",
       "1  Did not misuse - past year  30-40k        30-40k  College Graduate   \n",
       "\n",
       "                  CAIDCHIP_HI               PRIVATE_HI   ANY_HI  \\\n",
       "0  Doesn't have Medicaid/CHIP           Has Private HI  With HI   \n",
       "1           Has Medicaid/CHIP  Doesn't have Private HI  With HI   \n",
       "\n",
       "    HEALTH_INSURANCE  \n",
       "0     Has Private HI  \n",
       "1  Has Medicaid/CHIP  "
      ]
     },
     "execution_count": 3,
     "metadata": {},
     "output_type": "execute_result"
    }
   ],
   "source": [
    "df = pd.read_pickle('cleaned_nsduh.pkl')\n",
    "df.head(2)"
   ]
  },
  {
   "cell_type": "markdown",
   "metadata": {},
   "source": [
    "## Exploring Crosstabs\n",
    "\n",
    "#### Health Insurance and Painkiller use"
   ]
  },
  {
   "cell_type": "code",
   "execution_count": 4,
   "metadata": {},
   "outputs": [
    {
     "data": {
      "text/html": [
       "<div>\n",
       "<style scoped>\n",
       "    .dataframe tbody tr th:only-of-type {\n",
       "        vertical-align: middle;\n",
       "    }\n",
       "\n",
       "    .dataframe tbody tr th {\n",
       "        vertical-align: top;\n",
       "    }\n",
       "\n",
       "    .dataframe thead th {\n",
       "        text-align: right;\n",
       "    }\n",
       "</style>\n",
       "<table border=\"1\" class=\"dataframe\">\n",
       "  <thead>\n",
       "    <tr style=\"text-align: right;\">\n",
       "      <th>Used Prescription Painkillers</th>\n",
       "      <th>Used within year</th>\n",
       "      <th>Used in 12+ months</th>\n",
       "      <th>Never used</th>\n",
       "    </tr>\n",
       "    <tr>\n",
       "      <th>Health Insurance</th>\n",
       "      <th></th>\n",
       "      <th></th>\n",
       "      <th></th>\n",
       "    </tr>\n",
       "  </thead>\n",
       "  <tbody>\n",
       "    <tr>\n",
       "      <th>Has Medicaid/CHIP</th>\n",
       "      <td>32.189</td>\n",
       "      <td>12.900</td>\n",
       "      <td>54.911</td>\n",
       "    </tr>\n",
       "    <tr>\n",
       "      <th>Has Private HI</th>\n",
       "      <td>29.004</td>\n",
       "      <td>28.656</td>\n",
       "      <td>42.340</td>\n",
       "    </tr>\n",
       "    <tr>\n",
       "      <th>Has any other HI</th>\n",
       "      <td>34.198</td>\n",
       "      <td>23.449</td>\n",
       "      <td>42.352</td>\n",
       "    </tr>\n",
       "    <tr>\n",
       "      <th>Without any HI</th>\n",
       "      <td>28.177</td>\n",
       "      <td>19.232</td>\n",
       "      <td>52.591</td>\n",
       "    </tr>\n",
       "    <tr>\n",
       "      <th>All</th>\n",
       "      <td>46.272</td>\n",
       "      <td>23.676</td>\n",
       "      <td>30.052</td>\n",
       "    </tr>\n",
       "  </tbody>\n",
       "</table>\n",
       "</div>"
      ],
      "text/plain": [
       "Used Prescription Painkillers  Used within year  Used in 12+ months  \\\n",
       "Health Insurance                                                      \n",
       "Has Medicaid/CHIP                        32.189              12.900   \n",
       "Has Private HI                           29.004              28.656   \n",
       "Has any other HI                         34.198              23.449   \n",
       "Without any HI                           28.177              19.232   \n",
       "All                                      46.272              23.676   \n",
       "\n",
       "Used Prescription Painkillers  Never used  \n",
       "Health Insurance                           \n",
       "Has Medicaid/CHIP                  54.911  \n",
       "Has Private HI                     42.340  \n",
       "Has any other HI                   42.352  \n",
       "Without any HI                     52.591  \n",
       "All                                30.052  "
      ]
     },
     "execution_count": 4,
     "metadata": {},
     "output_type": "execute_result"
    }
   ],
   "source": [
    "ct = pd.crosstab(df[\"HEALTH_INSURANCE\"], df[\"PRES_PAINKILLER_USE\"], \n",
    "                 rownames=['Health Insurance'], colnames=['Used Prescription Painkillers'], \n",
    "                 margins=True, normalize='index')\n",
    "(ct*100).round(decimals=3)"
   ]
  },
  {
   "cell_type": "code",
   "execution_count": 5,
   "metadata": {},
   "outputs": [
    {
     "data": {
      "text/html": [
       "<div>\n",
       "<style scoped>\n",
       "    .dataframe tbody tr th:only-of-type {\n",
       "        vertical-align: middle;\n",
       "    }\n",
       "\n",
       "    .dataframe tbody tr th {\n",
       "        vertical-align: top;\n",
       "    }\n",
       "\n",
       "    .dataframe thead th {\n",
       "        text-align: right;\n",
       "    }\n",
       "</style>\n",
       "<table border=\"1\" class=\"dataframe\">\n",
       "  <thead>\n",
       "    <tr style=\"text-align: right;\">\n",
       "      <th>Used Oxycontin</th>\n",
       "      <th>Used in past year</th>\n",
       "      <th>Not used in past year</th>\n",
       "    </tr>\n",
       "    <tr>\n",
       "      <th>Health Insurance</th>\n",
       "      <th></th>\n",
       "      <th></th>\n",
       "    </tr>\n",
       "  </thead>\n",
       "  <tbody>\n",
       "    <tr>\n",
       "      <th>Has Medicaid/CHIP</th>\n",
       "      <td>3.613</td>\n",
       "      <td>96.387</td>\n",
       "    </tr>\n",
       "    <tr>\n",
       "      <th>Has Private HI</th>\n",
       "      <td>2.900</td>\n",
       "      <td>97.100</td>\n",
       "    </tr>\n",
       "    <tr>\n",
       "      <th>Has any other HI</th>\n",
       "      <td>3.978</td>\n",
       "      <td>96.022</td>\n",
       "    </tr>\n",
       "    <tr>\n",
       "      <th>Without any HI</th>\n",
       "      <td>3.877</td>\n",
       "      <td>96.123</td>\n",
       "    </tr>\n",
       "    <tr>\n",
       "      <th>All</th>\n",
       "      <td>96.762</td>\n",
       "      <td>3.238</td>\n",
       "    </tr>\n",
       "  </tbody>\n",
       "</table>\n",
       "</div>"
      ],
      "text/plain": [
       "Used Oxycontin     Used in past year  Not used in past year\n",
       "Health Insurance                                           \n",
       "Has Medicaid/CHIP              3.613                 96.387\n",
       "Has Private HI                 2.900                 97.100\n",
       "Has any other HI               3.978                 96.022\n",
       "Without any HI                 3.877                 96.123\n",
       "All                           96.762                  3.238"
      ]
     },
     "execution_count": 5,
     "metadata": {},
     "output_type": "execute_result"
    }
   ],
   "source": [
    "ct = pd.crosstab(df[\"HEALTH_INSURANCE\"], df[\"OXYCONTIN_USE\"], \n",
    "                 rownames=['Health Insurance'], colnames=['Used Oxycontin'],\n",
    "                 margins=True, normalize='index')\n",
    "(ct*100).round(decimals=3)"
   ]
  },
  {
   "cell_type": "code",
   "execution_count": 6,
   "metadata": {},
   "outputs": [
    {
     "data": {
      "text/html": [
       "<div>\n",
       "<style scoped>\n",
       "    .dataframe tbody tr th:only-of-type {\n",
       "        vertical-align: middle;\n",
       "    }\n",
       "\n",
       "    .dataframe tbody tr th {\n",
       "        vertical-align: top;\n",
       "    }\n",
       "\n",
       "    .dataframe thead th {\n",
       "        text-align: right;\n",
       "    }\n",
       "</style>\n",
       "<table border=\"1\" class=\"dataframe\">\n",
       "  <thead>\n",
       "    <tr style=\"text-align: right;\">\n",
       "      <th>Misused Prescription Painkillers</th>\n",
       "      <th>Misused - past year</th>\n",
       "      <th>Did not misuse - past year</th>\n",
       "    </tr>\n",
       "    <tr>\n",
       "      <th>Health Insurance</th>\n",
       "      <th></th>\n",
       "      <th></th>\n",
       "    </tr>\n",
       "  </thead>\n",
       "  <tbody>\n",
       "    <tr>\n",
       "      <th>Has Medicaid/CHIP</th>\n",
       "      <td>0.933</td>\n",
       "      <td>99.067</td>\n",
       "    </tr>\n",
       "    <tr>\n",
       "      <th>Has Private HI</th>\n",
       "      <td>0.588</td>\n",
       "      <td>99.412</td>\n",
       "    </tr>\n",
       "    <tr>\n",
       "      <th>Has any other HI</th>\n",
       "      <td>0.519</td>\n",
       "      <td>99.481</td>\n",
       "    </tr>\n",
       "    <tr>\n",
       "      <th>Without any HI</th>\n",
       "      <td>1.532</td>\n",
       "      <td>98.468</td>\n",
       "    </tr>\n",
       "    <tr>\n",
       "      <th>All</th>\n",
       "      <td>99.247</td>\n",
       "      <td>0.753</td>\n",
       "    </tr>\n",
       "  </tbody>\n",
       "</table>\n",
       "</div>"
      ],
      "text/plain": [
       "Misused Prescription Painkillers  Misused - past year  \\\n",
       "Health Insurance                                        \n",
       "Has Medicaid/CHIP                               0.933   \n",
       "Has Private HI                                  0.588   \n",
       "Has any other HI                                0.519   \n",
       "Without any HI                                  1.532   \n",
       "All                                            99.247   \n",
       "\n",
       "Misused Prescription Painkillers  Did not misuse - past year  \n",
       "Health Insurance                                              \n",
       "Has Medicaid/CHIP                                     99.067  \n",
       "Has Private HI                                        99.412  \n",
       "Has any other HI                                      99.481  \n",
       "Without any HI                                        98.468  \n",
       "All                                                    0.753  "
      ]
     },
     "execution_count": 6,
     "metadata": {},
     "output_type": "execute_result"
    }
   ],
   "source": [
    "ct = pd.crosstab(df[\"HEALTH_INSURANCE\"], df[\"OXYCONTIN_MISUSED\"],\n",
    "                 rownames=['Health Insurance'], colnames=['Misused Prescription Painkillers'],\n",
    "                  margins=True, normalize='index')\n",
    "(ct*100).round(decimals=3)"
   ]
  },
  {
   "cell_type": "code",
   "execution_count": 7,
   "metadata": {},
   "outputs": [
    {
     "data": {
      "text/html": [
       "<div>\n",
       "<style scoped>\n",
       "    .dataframe tbody tr th:only-of-type {\n",
       "        vertical-align: middle;\n",
       "    }\n",
       "\n",
       "    .dataframe tbody tr th {\n",
       "        vertical-align: top;\n",
       "    }\n",
       "\n",
       "    .dataframe thead th {\n",
       "        text-align: right;\n",
       "    }\n",
       "</style>\n",
       "<table border=\"1\" class=\"dataframe\">\n",
       "  <thead>\n",
       "    <tr style=\"text-align: right;\">\n",
       "      <th>Used Prescription Painkillers</th>\n",
       "      <th>Used within year</th>\n",
       "      <th>Used in 12+ months</th>\n",
       "      <th>Never used</th>\n",
       "    </tr>\n",
       "    <tr>\n",
       "      <th>Any Health Insurance</th>\n",
       "      <th></th>\n",
       "      <th></th>\n",
       "      <th></th>\n",
       "    </tr>\n",
       "  </thead>\n",
       "  <tbody>\n",
       "    <tr>\n",
       "      <th>With HI</th>\n",
       "      <td>30.246</td>\n",
       "      <td>24.137</td>\n",
       "      <td>45.617</td>\n",
       "    </tr>\n",
       "    <tr>\n",
       "      <th>Without HI</th>\n",
       "      <td>28.177</td>\n",
       "      <td>19.232</td>\n",
       "      <td>52.591</td>\n",
       "    </tr>\n",
       "    <tr>\n",
       "      <th>All</th>\n",
       "      <td>46.272</td>\n",
       "      <td>23.676</td>\n",
       "      <td>30.052</td>\n",
       "    </tr>\n",
       "  </tbody>\n",
       "</table>\n",
       "</div>"
      ],
      "text/plain": [
       "Used Prescription Painkillers  Used within year  Used in 12+ months  \\\n",
       "Any Health Insurance                                                  \n",
       "With HI                                  30.246              24.137   \n",
       "Without HI                               28.177              19.232   \n",
       "All                                      46.272              23.676   \n",
       "\n",
       "Used Prescription Painkillers  Never used  \n",
       "Any Health Insurance                       \n",
       "With HI                            45.617  \n",
       "Without HI                         52.591  \n",
       "All                                30.052  "
      ]
     },
     "execution_count": 7,
     "metadata": {},
     "output_type": "execute_result"
    }
   ],
   "source": [
    "ct = pd.crosstab(df[\"ANY_HI\"], df[\"PRES_PAINKILLER_USE\"], \n",
    "                 rownames=['Any Health Insurance'], colnames=['Used Prescription Painkillers'],\n",
    "                 margins=True, normalize=\"index\")\n",
    "(ct*100).round(decimals=3)"
   ]
  },
  {
   "cell_type": "code",
   "execution_count": 8,
   "metadata": {},
   "outputs": [
    {
     "data": {
      "text/html": [
       "<div>\n",
       "<style scoped>\n",
       "    .dataframe tbody tr th:only-of-type {\n",
       "        vertical-align: middle;\n",
       "    }\n",
       "\n",
       "    .dataframe tbody tr th {\n",
       "        vertical-align: top;\n",
       "    }\n",
       "\n",
       "    .dataframe thead th {\n",
       "        text-align: right;\n",
       "    }\n",
       "</style>\n",
       "<table border=\"1\" class=\"dataframe\">\n",
       "  <thead>\n",
       "    <tr style=\"text-align: right;\">\n",
       "      <th>Oxycontin Use</th>\n",
       "      <th>Used in past year</th>\n",
       "      <th>Not used in past year</th>\n",
       "    </tr>\n",
       "    <tr>\n",
       "      <th>Any Health Insurance</th>\n",
       "      <th></th>\n",
       "      <th></th>\n",
       "    </tr>\n",
       "  </thead>\n",
       "  <tbody>\n",
       "    <tr>\n",
       "      <th>With HI</th>\n",
       "      <td>3.171</td>\n",
       "      <td>96.829</td>\n",
       "    </tr>\n",
       "    <tr>\n",
       "      <th>Without HI</th>\n",
       "      <td>3.877</td>\n",
       "      <td>96.123</td>\n",
       "    </tr>\n",
       "    <tr>\n",
       "      <th>All</th>\n",
       "      <td>96.762</td>\n",
       "      <td>3.238</td>\n",
       "    </tr>\n",
       "  </tbody>\n",
       "</table>\n",
       "</div>"
      ],
      "text/plain": [
       "Oxycontin Use         Used in past year  Not used in past year\n",
       "Any Health Insurance                                          \n",
       "With HI                           3.171                 96.829\n",
       "Without HI                        3.877                 96.123\n",
       "All                              96.762                  3.238"
      ]
     },
     "execution_count": 8,
     "metadata": {},
     "output_type": "execute_result"
    }
   ],
   "source": [
    "ct = pd.crosstab(df[\"ANY_HI\"], df[\"OXYCONTIN_USE\"], \n",
    "                 rownames=['Any Health Insurance'], colnames=['Oxycontin Use'],\n",
    "                 margins=True, normalize=\"index\")\n",
    "(ct*100).round(decimals=3)"
   ]
  },
  {
   "cell_type": "code",
   "execution_count": 9,
   "metadata": {},
   "outputs": [
    {
     "data": {
      "text/html": [
       "<div>\n",
       "<style scoped>\n",
       "    .dataframe tbody tr th:only-of-type {\n",
       "        vertical-align: middle;\n",
       "    }\n",
       "\n",
       "    .dataframe tbody tr th {\n",
       "        vertical-align: top;\n",
       "    }\n",
       "\n",
       "    .dataframe thead th {\n",
       "        text-align: right;\n",
       "    }\n",
       "</style>\n",
       "<table border=\"1\" class=\"dataframe\">\n",
       "  <thead>\n",
       "    <tr style=\"text-align: right;\">\n",
       "      <th>Misused Oxycontin</th>\n",
       "      <th>Misused - past year</th>\n",
       "      <th>Did not misuse - past year</th>\n",
       "    </tr>\n",
       "    <tr>\n",
       "      <th>Any Health Insurance</th>\n",
       "      <th></th>\n",
       "      <th></th>\n",
       "    </tr>\n",
       "  </thead>\n",
       "  <tbody>\n",
       "    <tr>\n",
       "      <th>With HI</th>\n",
       "      <td>0.673</td>\n",
       "      <td>99.327</td>\n",
       "    </tr>\n",
       "    <tr>\n",
       "      <th>Without HI</th>\n",
       "      <td>1.532</td>\n",
       "      <td>98.468</td>\n",
       "    </tr>\n",
       "    <tr>\n",
       "      <th>All</th>\n",
       "      <td>99.247</td>\n",
       "      <td>0.753</td>\n",
       "    </tr>\n",
       "  </tbody>\n",
       "</table>\n",
       "</div>"
      ],
      "text/plain": [
       "Misused Oxycontin     Misused - past year  Did not misuse - past year\n",
       "Any Health Insurance                                                 \n",
       "With HI                             0.673                      99.327\n",
       "Without HI                          1.532                      98.468\n",
       "All                                99.247                       0.753"
      ]
     },
     "execution_count": 9,
     "metadata": {},
     "output_type": "execute_result"
    }
   ],
   "source": [
    "ct = pd.crosstab(df[\"ANY_HI\"], df[\"OXYCONTIN_MISUSED\"],\n",
    "                 rownames=['Any Health Insurance'], colnames=['Misused Oxycontin'],\n",
    "                  margins=True, normalize='index')\n",
    "(ct*100).round(decimals=3)"
   ]
  },
  {
   "cell_type": "markdown",
   "metadata": {},
   "source": [
    "#### Filtering by: Used any painkiller"
   ]
  },
  {
   "cell_type": "code",
   "execution_count": 10,
   "metadata": {},
   "outputs": [],
   "source": [
    "used_pk = df[df.PRES_PAINKILLER_USE != \"Never used\"]"
   ]
  },
  {
   "cell_type": "code",
   "execution_count": 11,
   "metadata": {},
   "outputs": [
    {
     "data": {
      "text/html": [
       "<div>\n",
       "<style scoped>\n",
       "    .dataframe tbody tr th:only-of-type {\n",
       "        vertical-align: middle;\n",
       "    }\n",
       "\n",
       "    .dataframe tbody tr th {\n",
       "        vertical-align: top;\n",
       "    }\n",
       "\n",
       "    .dataframe thead th {\n",
       "        text-align: right;\n",
       "    }\n",
       "</style>\n",
       "<table border=\"1\" class=\"dataframe\">\n",
       "  <thead>\n",
       "    <tr style=\"text-align: right;\">\n",
       "      <th>Used Prescription Painkillers</th>\n",
       "      <th>Used within year</th>\n",
       "      <th>Used in 12+ months</th>\n",
       "    </tr>\n",
       "    <tr>\n",
       "      <th>Health Insurance</th>\n",
       "      <th></th>\n",
       "      <th></th>\n",
       "    </tr>\n",
       "  </thead>\n",
       "  <tbody>\n",
       "    <tr>\n",
       "      <th>Has Medicaid/CHIP</th>\n",
       "      <td>71.390</td>\n",
       "      <td>28.610</td>\n",
       "    </tr>\n",
       "    <tr>\n",
       "      <th>Has Private HI</th>\n",
       "      <td>50.301</td>\n",
       "      <td>49.699</td>\n",
       "    </tr>\n",
       "    <tr>\n",
       "      <th>Has any other HI</th>\n",
       "      <td>59.323</td>\n",
       "      <td>40.677</td>\n",
       "    </tr>\n",
       "    <tr>\n",
       "      <th>Without any HI</th>\n",
       "      <td>59.434</td>\n",
       "      <td>40.566</td>\n",
       "    </tr>\n",
       "    <tr>\n",
       "      <th>All</th>\n",
       "      <td>44.067</td>\n",
       "      <td>55.933</td>\n",
       "    </tr>\n",
       "  </tbody>\n",
       "</table>\n",
       "</div>"
      ],
      "text/plain": [
       "Used Prescription Painkillers  Used within year  Used in 12+ months\n",
       "Health Insurance                                                   \n",
       "Has Medicaid/CHIP                        71.390              28.610\n",
       "Has Private HI                           50.301              49.699\n",
       "Has any other HI                         59.323              40.677\n",
       "Without any HI                           59.434              40.566\n",
       "All                                      44.067              55.933"
      ]
     },
     "execution_count": 11,
     "metadata": {},
     "output_type": "execute_result"
    }
   ],
   "source": [
    "ct = pd.crosstab(used_pk[\"HEALTH_INSURANCE\"], used_pk[\"PRES_PAINKILLER_USE\"],\n",
    "                 rownames=['Health Insurance'], colnames=['Used Prescription Painkillers'],\n",
    "                 margins=True, normalize='index')\n",
    "(ct*100).round(decimals=3)"
   ]
  },
  {
   "cell_type": "code",
   "execution_count": 12,
   "metadata": {},
   "outputs": [
    {
     "data": {
      "text/html": [
       "<div>\n",
       "<style scoped>\n",
       "    .dataframe tbody tr th:only-of-type {\n",
       "        vertical-align: middle;\n",
       "    }\n",
       "\n",
       "    .dataframe tbody tr th {\n",
       "        vertical-align: top;\n",
       "    }\n",
       "\n",
       "    .dataframe thead th {\n",
       "        text-align: right;\n",
       "    }\n",
       "</style>\n",
       "<table border=\"1\" class=\"dataframe\">\n",
       "  <thead>\n",
       "    <tr style=\"text-align: right;\">\n",
       "      <th>Used Oxycontin</th>\n",
       "      <th>Used in past year</th>\n",
       "      <th>Not used in past year</th>\n",
       "    </tr>\n",
       "    <tr>\n",
       "      <th>Health Insurance</th>\n",
       "      <th></th>\n",
       "      <th></th>\n",
       "    </tr>\n",
       "  </thead>\n",
       "  <tbody>\n",
       "    <tr>\n",
       "      <th>Has Medicaid/CHIP</th>\n",
       "      <td>8.012</td>\n",
       "      <td>91.988</td>\n",
       "    </tr>\n",
       "    <tr>\n",
       "      <th>Has Private HI</th>\n",
       "      <td>5.030</td>\n",
       "      <td>94.970</td>\n",
       "    </tr>\n",
       "    <tr>\n",
       "      <th>Has any other HI</th>\n",
       "      <td>6.901</td>\n",
       "      <td>93.099</td>\n",
       "    </tr>\n",
       "    <tr>\n",
       "      <th>Without any HI</th>\n",
       "      <td>8.177</td>\n",
       "      <td>91.823</td>\n",
       "    </tr>\n",
       "    <tr>\n",
       "      <th>All</th>\n",
       "      <td>93.974</td>\n",
       "      <td>6.026</td>\n",
       "    </tr>\n",
       "  </tbody>\n",
       "</table>\n",
       "</div>"
      ],
      "text/plain": [
       "Used Oxycontin     Used in past year  Not used in past year\n",
       "Health Insurance                                           \n",
       "Has Medicaid/CHIP              8.012                 91.988\n",
       "Has Private HI                 5.030                 94.970\n",
       "Has any other HI               6.901                 93.099\n",
       "Without any HI                 8.177                 91.823\n",
       "All                           93.974                  6.026"
      ]
     },
     "execution_count": 12,
     "metadata": {},
     "output_type": "execute_result"
    }
   ],
   "source": [
    "ct = pd.crosstab(used_pk[\"HEALTH_INSURANCE\"], used_pk[\"OXYCONTIN_USE\"],\n",
    "                 rownames=['Health Insurance'], colnames=['Used Oxycontin'],\n",
    "                 margins=True, normalize='index')\n",
    "(ct*100).round(decimals=3)"
   ]
  },
  {
   "cell_type": "code",
   "execution_count": 13,
   "metadata": {},
   "outputs": [
    {
     "data": {
      "text/html": [
       "<div>\n",
       "<style scoped>\n",
       "    .dataframe tbody tr th:only-of-type {\n",
       "        vertical-align: middle;\n",
       "    }\n",
       "\n",
       "    .dataframe tbody tr th {\n",
       "        vertical-align: top;\n",
       "    }\n",
       "\n",
       "    .dataframe thead th {\n",
       "        text-align: right;\n",
       "    }\n",
       "</style>\n",
       "<table border=\"1\" class=\"dataframe\">\n",
       "  <thead>\n",
       "    <tr style=\"text-align: right;\">\n",
       "      <th>Misused Oxycontin</th>\n",
       "      <th>Misused - past year</th>\n",
       "      <th>Did not misuse - past year</th>\n",
       "    </tr>\n",
       "    <tr>\n",
       "      <th>Health Insurance</th>\n",
       "      <th></th>\n",
       "      <th></th>\n",
       "    </tr>\n",
       "  </thead>\n",
       "  <tbody>\n",
       "    <tr>\n",
       "      <th>Has Medicaid/CHIP</th>\n",
       "      <td>2.070</td>\n",
       "      <td>97.930</td>\n",
       "    </tr>\n",
       "    <tr>\n",
       "      <th>Has Private HI</th>\n",
       "      <td>1.020</td>\n",
       "      <td>98.980</td>\n",
       "    </tr>\n",
       "    <tr>\n",
       "      <th>Has any other HI</th>\n",
       "      <td>0.900</td>\n",
       "      <td>99.100</td>\n",
       "    </tr>\n",
       "    <tr>\n",
       "      <th>Without any HI</th>\n",
       "      <td>3.231</td>\n",
       "      <td>96.769</td>\n",
       "    </tr>\n",
       "    <tr>\n",
       "      <th>All</th>\n",
       "      <td>98.598</td>\n",
       "      <td>1.402</td>\n",
       "    </tr>\n",
       "  </tbody>\n",
       "</table>\n",
       "</div>"
      ],
      "text/plain": [
       "Misused Oxycontin  Misused - past year  Did not misuse - past year\n",
       "Health Insurance                                                  \n",
       "Has Medicaid/CHIP                2.070                      97.930\n",
       "Has Private HI                   1.020                      98.980\n",
       "Has any other HI                 0.900                      99.100\n",
       "Without any HI                   3.231                      96.769\n",
       "All                             98.598                       1.402"
      ]
     },
     "execution_count": 13,
     "metadata": {},
     "output_type": "execute_result"
    }
   ],
   "source": [
    "ct = pd.crosstab(used_pk[\"HEALTH_INSURANCE\"], used_pk[\"OXYCONTIN_MISUSED\"],\n",
    "                 rownames=['Health Insurance'], colnames=['Misused Oxycontin'],\n",
    "                 margins=True, normalize='index')\n",
    "(ct*100).round(decimals=3)"
   ]
  },
  {
   "cell_type": "markdown",
   "metadata": {},
   "source": [
    "#### Filtering by: Without any Health Insurance"
   ]
  },
  {
   "cell_type": "code",
   "execution_count": 14,
   "metadata": {},
   "outputs": [],
   "source": [
    "no_hi = df[df.HEALTH_INSURANCE == \"Without any HI\"]"
   ]
  },
  {
   "cell_type": "code",
   "execution_count": 15,
   "metadata": {},
   "outputs": [
    {
     "data": {
      "text/html": [
       "<div>\n",
       "<style scoped>\n",
       "    .dataframe tbody tr th:only-of-type {\n",
       "        vertical-align: middle;\n",
       "    }\n",
       "\n",
       "    .dataframe tbody tr th {\n",
       "        vertical-align: top;\n",
       "    }\n",
       "\n",
       "    .dataframe thead th {\n",
       "        text-align: right;\n",
       "    }\n",
       "</style>\n",
       "<table border=\"1\" class=\"dataframe\">\n",
       "  <thead>\n",
       "    <tr style=\"text-align: right;\">\n",
       "      <th>Used Prescription Painkillers</th>\n",
       "      <th>Used within year</th>\n",
       "      <th>Used in 12+ months</th>\n",
       "      <th>Never used</th>\n",
       "    </tr>\n",
       "    <tr>\n",
       "      <th>Health Insurance</th>\n",
       "      <th></th>\n",
       "      <th></th>\n",
       "      <th></th>\n",
       "    </tr>\n",
       "  </thead>\n",
       "  <tbody>\n",
       "    <tr>\n",
       "      <th>Without any HI</th>\n",
       "      <td>28.177</td>\n",
       "      <td>19.232</td>\n",
       "      <td>52.591</td>\n",
       "    </tr>\n",
       "    <tr>\n",
       "      <th>All</th>\n",
       "      <td>52.591</td>\n",
       "      <td>19.232</td>\n",
       "      <td>28.177</td>\n",
       "    </tr>\n",
       "  </tbody>\n",
       "</table>\n",
       "</div>"
      ],
      "text/plain": [
       "Used Prescription Painkillers  Used within year  Used in 12+ months  \\\n",
       "Health Insurance                                                      \n",
       "Without any HI                           28.177              19.232   \n",
       "All                                      52.591              19.232   \n",
       "\n",
       "Used Prescription Painkillers  Never used  \n",
       "Health Insurance                           \n",
       "Without any HI                     52.591  \n",
       "All                                28.177  "
      ]
     },
     "execution_count": 15,
     "metadata": {},
     "output_type": "execute_result"
    }
   ],
   "source": [
    "ct = pd.crosstab(no_hi[\"HEALTH_INSURANCE\"], no_hi[\"PRES_PAINKILLER_USE\"],\n",
    "                 rownames=['Health Insurance'], colnames=['Used Prescription Painkillers'],\n",
    "                 margins=True, normalize='index')\n",
    "(ct*100).round(decimals=3)"
   ]
  },
  {
   "cell_type": "code",
   "execution_count": 16,
   "metadata": {},
   "outputs": [
    {
     "data": {
      "text/html": [
       "<div>\n",
       "<style scoped>\n",
       "    .dataframe tbody tr th:only-of-type {\n",
       "        vertical-align: middle;\n",
       "    }\n",
       "\n",
       "    .dataframe tbody tr th {\n",
       "        vertical-align: top;\n",
       "    }\n",
       "\n",
       "    .dataframe thead th {\n",
       "        text-align: right;\n",
       "    }\n",
       "</style>\n",
       "<table border=\"1\" class=\"dataframe\">\n",
       "  <thead>\n",
       "    <tr style=\"text-align: right;\">\n",
       "      <th>Used Oxycontin</th>\n",
       "      <th>Used in past year</th>\n",
       "      <th>Not used in past year</th>\n",
       "    </tr>\n",
       "    <tr>\n",
       "      <th>Health Insurance</th>\n",
       "      <th></th>\n",
       "      <th></th>\n",
       "    </tr>\n",
       "  </thead>\n",
       "  <tbody>\n",
       "    <tr>\n",
       "      <th>Without any HI</th>\n",
       "      <td>3.877</td>\n",
       "      <td>96.123</td>\n",
       "    </tr>\n",
       "    <tr>\n",
       "      <th>All</th>\n",
       "      <td>96.123</td>\n",
       "      <td>3.877</td>\n",
       "    </tr>\n",
       "  </tbody>\n",
       "</table>\n",
       "</div>"
      ],
      "text/plain": [
       "Used Oxycontin    Used in past year  Not used in past year\n",
       "Health Insurance                                          \n",
       "Without any HI                3.877                 96.123\n",
       "All                          96.123                  3.877"
      ]
     },
     "execution_count": 16,
     "metadata": {},
     "output_type": "execute_result"
    }
   ],
   "source": [
    "ct = pd.crosstab(no_hi[\"HEALTH_INSURANCE\"], no_hi[\"OXYCONTIN_USE\"],\n",
    "                 rownames=['Health Insurance'], colnames=['Used Oxycontin'],\n",
    "                 margins=True, normalize='index')\n",
    "(ct*100).round(decimals=3)"
   ]
  },
  {
   "cell_type": "code",
   "execution_count": 17,
   "metadata": {},
   "outputs": [
    {
     "data": {
      "text/html": [
       "<div>\n",
       "<style scoped>\n",
       "    .dataframe tbody tr th:only-of-type {\n",
       "        vertical-align: middle;\n",
       "    }\n",
       "\n",
       "    .dataframe tbody tr th {\n",
       "        vertical-align: top;\n",
       "    }\n",
       "\n",
       "    .dataframe thead th {\n",
       "        text-align: right;\n",
       "    }\n",
       "</style>\n",
       "<table border=\"1\" class=\"dataframe\">\n",
       "  <thead>\n",
       "    <tr style=\"text-align: right;\">\n",
       "      <th>Misused Oxycontin</th>\n",
       "      <th>Misused - past year</th>\n",
       "      <th>Did not misuse - past year</th>\n",
       "    </tr>\n",
       "    <tr>\n",
       "      <th>Health Insurance</th>\n",
       "      <th></th>\n",
       "      <th></th>\n",
       "    </tr>\n",
       "  </thead>\n",
       "  <tbody>\n",
       "    <tr>\n",
       "      <th>Without any HI</th>\n",
       "      <td>1.532</td>\n",
       "      <td>98.468</td>\n",
       "    </tr>\n",
       "    <tr>\n",
       "      <th>All</th>\n",
       "      <td>98.468</td>\n",
       "      <td>1.532</td>\n",
       "    </tr>\n",
       "  </tbody>\n",
       "</table>\n",
       "</div>"
      ],
      "text/plain": [
       "Misused Oxycontin  Misused - past year  Did not misuse - past year\n",
       "Health Insurance                                                  \n",
       "Without any HI                   1.532                      98.468\n",
       "All                             98.468                       1.532"
      ]
     },
     "execution_count": 17,
     "metadata": {},
     "output_type": "execute_result"
    }
   ],
   "source": [
    "ct = pd.crosstab(no_hi[\"HEALTH_INSURANCE\"], no_hi[\"OXYCONTIN_MISUSED\"],\n",
    "                 rownames=['Health Insurance'], colnames=['Misused Oxycontin'],\n",
    "                 margins=True, normalize='index')\n",
    "(ct*100).round(decimals=3)"
   ]
  },
  {
   "cell_type": "markdown",
   "metadata": {},
   "source": [
    "## Explorimg PMFs"
   ]
  },
  {
   "cell_type": "code",
   "execution_count": 18,
   "metadata": {},
   "outputs": [
    {
     "data": {
      "image/png": "[encoded data removed]",
      "text/plain": [
       "<Figure size 432x288 with 1 Axes>"
      ]
     },
     "metadata": {
      "needs_background": "light"
     },
     "output_type": "display_data"
    }
   ],
   "source": [
    "pmf_a = Pmf(used_pk[\"OXYCONTIN_USE\"])\n",
    "thinkplot.Hist(pmf_a)\n",
    "decorate(ylabel='Probability')"
   ]
  },
  {
   "cell_type": "code",
   "execution_count": 19,
   "metadata": {},
   "outputs": [
    {
     "data": {
      "image/png": "[encoded data removed]",
      "text/plain": [
       "<Figure size 432x288 with 1 Axes>"
      ]
     },
     "metadata": {
      "needs_background": "light"
     },
     "output_type": "display_data"
    }
   ],
   "source": [
    "pmf_a = Pmf(used_pk[\"HEALTH_INSURANCE\"])\n",
    "thinkplot.Hist(pmf_a)\n",
    "decorate(ylabel='Probability')"
   ]
  },
  {
   "cell_type": "code",
   "execution_count": 20,
   "metadata": {},
   "outputs": [
    {
     "data": {
      "image/png": "[encoded data removed]",
      "text/plain": [
       "<Figure size 432x288 with 1 Axes>"
      ]
     },
     "metadata": {
      "needs_background": "light"
     },
     "output_type": "display_data"
    }
   ],
   "source": [
    "pmf_a = Pmf(no_hi[\"PRES_PAINKILLER_USE\"])\n",
    "thinkplot.Hist(pmf_a)\n",
    "decorate(ylabel='Probability')"
   ]
  },
  {
   "cell_type": "code",
   "execution_count": 21,
   "metadata": {},
   "outputs": [
    {
     "data": {
      "image/png": "[encoded data removed]",
      "text/plain": [
       "<Figure size 432x288 with 1 Axes>"
      ]
     },
     "metadata": {
      "needs_background": "light"
     },
     "output_type": "display_data"
    }
   ],
   "source": [
    "pmf_a = Pmf(used_pk[\"OXYCONTIN_MISUSED\"])\n",
    "thinkplot.Hist(pmf_a)\n",
    "decorate(ylabel='Probability')"
   ]
  },
  {
   "cell_type": "code",
   "execution_count": 22,
   "metadata": {},
   "outputs": [
    {
     "data": {
      "image/png": "[encoded data removed]",
      "text/plain": [
       "<Figure size 432x288 with 1 Axes>"
      ]
     },
     "metadata": {
      "needs_background": "light"
     },
     "output_type": "display_data"
    }
   ],
   "source": [
    "pmf_a = Pmf(no_hi[\"OXYCONTIN_MISUSED\"])\n",
    "thinkplot.Hist(pmf_a)\n",
    "decorate(ylabel='Probability')"
   ]
  },
  {
   "cell_type": "code",
   "execution_count": 23,
   "metadata": {},
   "outputs": [
    {
     "data": {
      "image/png": "[encoded data removed]",
      "text/plain": [
       "<Figure size 432x288 with 1 Axes>"
      ]
     },
     "metadata": {
      "needs_background": "light"
     },
     "output_type": "display_data"
    }
   ],
   "source": [
    "pmf_a = Pmf(used_pk[\"PRES_PAINKILLER_USE\"])\n",
    "thinkplot.Hist(pmf_a)\n",
    "decorate(ylabel='Probability')"
   ]
  },
  {
   "cell_type": "code",
   "execution_count": 24,
   "metadata": {},
   "outputs": [
    {
     "data": {
      "image/png": "[encoded data removed]",
      "text/plain": [
       "<Figure size 432x288 with 1 Axes>"
      ]
     },
     "metadata": {
      "needs_background": "light"
     },
     "output_type": "display_data"
    }
   ],
   "source": [
    "pmf_a = Pmf(used_pk[\"REC_PAINKILLER_MISUSE\"])\n",
    "thinkplot.Hist(pmf_a)\n",
    "decorate(ylabel='Probability')\n",
    "#separate by health insurance type and do side by side PMFs"
   ]
  },
  {
   "cell_type": "code",
   "execution_count": 25,
   "metadata": {},
   "outputs": [],
   "source": [
    "no_hi = df[df.HEALTH_INSURANCE == \"Without any HI\"]\n",
    "priv_hi = df[df.HEALTH_INSURANCE == \"Has Private HI\"]\n",
    "pmf_a = Pmf(no_hi[\"REC_PAINKILLER_MISUSE\"])\n",
    "pmf_b = Pmf(priv_hi[\"REC_PAINKILLER_MISUSE\"])"
   ]
  },
  {
   "cell_type": "code",
   "execution_count": 67,
   "metadata": {},
   "outputs": [
    {
     "data": {
      "image/png": "[encoded data removed]",
      "text/plain": [
       "<Figure size 432x288 with 1 Axes>"
      ]
     },
     "metadata": {
      "needs_background": "light"
     },
     "output_type": "display_data"
    },
    {
     "data": {
      "text/plain": [
       "<Figure size 576x432 with 0 Axes>"
      ]
     },
     "metadata": {},
     "output_type": "display_data"
    }
   ],
   "source": [
    "width = 0.4\n",
    "thinkplot.Hist(pmf_a, align='right', width=width)\n",
    "thinkplot.Hist(pmf_b, align='left', width=width)\n",
    "thinkplot.Config(ylabel='probability')\n",
    "plt.xticks(np.arange(0, 4, step=1), rotation='vertical')\n",
    "thinkplot.Show()"
   ]
  },
  {
   "cell_type": "code",
   "execution_count": null,
   "metadata": {},
   "outputs": [],
   "source": []
  }
 ],
 "metadata": {
  "kernelspec": {
   "display_name": "Python 3",
   "language": "python",
   "name": "python3"
  }
 },
 "nbformat": 4,
 "nbformat_minor": 2
}
