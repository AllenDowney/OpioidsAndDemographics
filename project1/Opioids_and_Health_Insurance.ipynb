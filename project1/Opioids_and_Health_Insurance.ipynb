{
 "cells": [
  {
   "cell_type": "markdown",
   "metadata": {},
   "source": [
    "# How does health insurance affect rates of use and abuse of opioids?\n",
    "### Data Science - 2019\n",
    "### Filipe Borba & Micah Reid"
   ]
  },
  {
   "cell_type": "code",
   "execution_count": 1,
   "metadata": {},
   "outputs": [],
   "source": [
    "%matplotlib inline\n",
    "\n",
    "import pandas as pd\n",
    "import numpy as np\n",
    "\n",
    "import matplotlib.pyplot as plt\n",
    "import seaborn as sns\n",
    "sns.set(style='white')\n",
    "\n",
    "import utils\n",
    "from utils import decorate\n",
    "from thinkstats2 import Pmf, Cdf\n",
    "import thinkplot\n",
    "width = 0.4 #Width of the histograms, optional"
   ]
  },
  {
   "cell_type": "markdown",
   "metadata": {},
   "source": [
    "\"The National Survey on Drug Use and Health (NSDUH) provides up-to-date information on tobacco, alcohol, and drug use, mental health and other health-related issues in the United States.\n",
    "\n",
    "NSDUH began in 1971 and is conducted every year in all 50 states and the District of Columbia. This year almost 70,000 people will be interviewed for this important study.\n",
    "\n",
    "Information from NSDUH is used to support prevention and treatment programs, monitor substance use trends, estimate the need for treatment and inform public health policy.\"\n",
    "\n",
    "The data loaded here is the result of a cleaned version of the NSDUH 2018 dataset. Only the important variables were separated and treated so the analysis would be less confusing. If you want to know more about that, access the \"Data Management\" notebook!"
   ]
  },
  {
   "cell_type": "code",
   "execution_count": 2,
   "metadata": {},
   "outputs": [
    {
     "data": {
      "text/html": [
       "<div>\n",
       "<style scoped>\n",
       "    .dataframe tbody tr th:only-of-type {\n",
       "        vertical-align: middle;\n",
       "    }\n",
       "\n",
       "    .dataframe tbody tr th {\n",
       "        vertical-align: top;\n",
       "    }\n",
       "\n",
       "    .dataframe thead th {\n",
       "        text-align: right;\n",
       "    }\n",
       "</style>\n",
       "<table border=\"1\" class=\"dataframe\">\n",
       "  <thead>\n",
       "    <tr style=\"text-align: right;\">\n",
       "      <th></th>\n",
       "      <th>SEX</th>\n",
       "      <th>AGE</th>\n",
       "      <th>PRES_PAINKILLER_USE</th>\n",
       "      <th>REC_PAINKILLER_MISUSE</th>\n",
       "      <th>ANY_PAINKILLER_LIFETIME</th>\n",
       "      <th>OXYCONTIN_USE</th>\n",
       "      <th>OXYCONTIN_MISUSED</th>\n",
       "      <th>INCOME</th>\n",
       "      <th>FAMILY_INCOME</th>\n",
       "      <th>EDUCATION</th>\n",
       "      <th>CAIDCHIP_HI</th>\n",
       "      <th>PRIVATE_HI</th>\n",
       "      <th>ANY_HI</th>\n",
       "      <th>HEALTH_INSURANCE</th>\n",
       "    </tr>\n",
       "  </thead>\n",
       "  <tbody>\n",
       "    <tr>\n",
       "      <th>0</th>\n",
       "      <td>Male</td>\n",
       "      <td>65+</td>\n",
       "      <td>Never used</td>\n",
       "      <td>Never misused</td>\n",
       "      <td>Not used</td>\n",
       "      <td>Not used in past year</td>\n",
       "      <td>Did not misuse - past year</td>\n",
       "      <td>75k+</td>\n",
       "      <td>75k+</td>\n",
       "      <td>College Graduate</td>\n",
       "      <td>Doesn't have Medicaid/CHIP</td>\n",
       "      <td>Has Private HI</td>\n",
       "      <td>With HI</td>\n",
       "      <td>Has Private HI</td>\n",
       "    </tr>\n",
       "    <tr>\n",
       "      <th>1</th>\n",
       "      <td>Male</td>\n",
       "      <td>35-49</td>\n",
       "      <td>Used in 12+ months</td>\n",
       "      <td>Never misused</td>\n",
       "      <td>Used</td>\n",
       "      <td>Not used in past year</td>\n",
       "      <td>Did not misuse - past year</td>\n",
       "      <td>30-40k</td>\n",
       "      <td>30-40k</td>\n",
       "      <td>College Graduate</td>\n",
       "      <td>Has Medicaid/CHIP</td>\n",
       "      <td>Doesn't have Private HI</td>\n",
       "      <td>With HI</td>\n",
       "      <td>Has Medicaid/CHIP</td>\n",
       "    </tr>\n",
       "  </tbody>\n",
       "</table>\n",
       "</div>"
      ],
      "text/plain": [
       "    SEX    AGE PRES_PAINKILLER_USE REC_PAINKILLER_MISUSE  \\\n",
       "0  Male    65+          Never used         Never misused   \n",
       "1  Male  35-49  Used in 12+ months         Never misused   \n",
       "\n",
       "  ANY_PAINKILLER_LIFETIME          OXYCONTIN_USE           OXYCONTIN_MISUSED  \\\n",
       "0                Not used  Not used in past year  Did not misuse - past year   \n",
       "1                    Used  Not used in past year  Did not misuse - past year   \n",
       "\n",
       "   INCOME FAMILY_INCOME         EDUCATION                 CAIDCHIP_HI  \\\n",
       "0    75k+          75k+  College Graduate  Doesn't have Medicaid/CHIP   \n",
       "1  30-40k        30-40k  College Graduate           Has Medicaid/CHIP   \n",
       "\n",
       "                PRIVATE_HI   ANY_HI   HEALTH_INSURANCE  \n",
       "0           Has Private HI  With HI     Has Private HI  \n",
       "1  Doesn't have Private HI  With HI  Has Medicaid/CHIP  "
      ]
     },
     "execution_count": 2,
     "metadata": {},
     "output_type": "execute_result"
    }
   ],
   "source": [
    "df = pd.read_pickle('cleaned_nsduh.pkl')\n",
    "df.head(2)"
   ]
  },
  {
   "cell_type": "markdown",
   "metadata": {},
   "source": [
    "## Variables\n",
    "#### Demographics\n",
    "irsex = SEX = Respondent's sex | (\"Male\",\"Female\")  \n",
    "AGE2 = AGE = Respondent's age | (\"12\", \"13\", \"14\", \"15\", \"16\", \"17\", \"18\", \"19\", \"20\", \"21\", \"22-23\", \"24-25\", \"26-29\", \"30-34\", \"35-49\", \"50-64\", \"65+\")  \n",
    "IRPINC3 = INCOME = Respondent's total income | (\"10k or less\", \"10-20k\", \"20-30k\", \"30-40k\", \"40-50k\", \"50-75k\", \"75k+\")  \n",
    "IRFAMIN3 = FAMILY_INCOME = Respondent's family total income | (\"10k or less\", \"10-20k\", \"20-30k\", \"30-40k\", \"40-50k\", \"50-75k\", \"75k+\")  \n",
    "eduhighcat = EDUCATION = Respondent's education category | (\"Less High School\", \"High School Grad\", \"Some Coll/Assoc Degree\", \"College Graduate\", \"12-17 year olds\")  \n",
    "\n",
    "#### Health Insurance\n",
    "irmcdchp = CAIDCHIP_HI = If respondent has or not the CAIDCHIP Health Insurance | (\"Has Medicaid/CHIP\", \"Doesn't have Medicaid/CHIP\")  \n",
    "irprvhlt = PRIVATE_HI = If respondent has or not any Private Health Insurance | (\"Has Private HI\", \"Doesn't have Private HI\")  \n",
    "IRINSUR4 = ANY_HI = If respondent has or not any kind of Health Insurance | (\"With HI\", \"Without HI\")  \n",
    "\n",
    "#### Pain Killer usage\n",
    "iroxcnanyyr = OXYCONTIN_USE =  Any OxyContin use recency | (\"Used in past year\", \"Not used in past year\")  \n",
    "iroxcnnmyr = OXYCONTIN_MISUSED = OxyContin past year misuse | (\"Misused - past year\", \"Did not misuse - past year\")  \n",
    "pnranylif = ANY_PAINKILLER_LIFETIME = Any pain reliever used in lifetime | (\"Used\", \"Not used\", \"Used (assumed)\", \"Don't Know\", \"Refused\", \"Blank\")  \n",
    "irpnranyrec = PRES_PAINKILLER_USE = Any use of pain reliever | (\"Used within year\", \"Used in 12+ months\", \"Never used\")  \n",
    "irpnrnmrec = REC_PAINKILLER_MISUSE = Pain reliever misuse recency | (\"Misused in last 30 days\", \"Misused 31 days-12 months\", \"Misused 12+ months\", \"Never misused\")   "
   ]
  },
  {
   "cell_type": "markdown",
   "metadata": {},
   "source": [
    "## Demographic Information"
   ]
  },
  {
   "cell_type": "code",
   "execution_count": 3,
   "metadata": {},
   "outputs": [
    {
     "data": {
      "image/png": "[encoded data removed]",
      "text/plain": [
       "<Figure size 432x288 with 1 Axes>"
      ]
     },
     "metadata": {
      "needs_background": "light"
     },
     "output_type": "display_data"
    }
   ],
   "source": [
    "pmf_a = Pmf(df[\"SEX\"])\n",
    "thinkplot.Hist(pmf_a)\n",
    "plt.xticks(np.arange(0, 2, step=1), rotation='vertical')\n",
    "decorate(ylabel='Probability', title = 'Sex Breakdown')"
   ]
  },
  {
   "cell_type": "code",
   "execution_count": 4,
   "metadata": {},
   "outputs": [
    {
     "data": {
      "image/png": "[encoded data removed]",
      "text/plain": [
       "<Figure size 432x288 with 1 Axes>"
      ]
     },
     "metadata": {
      "needs_background": "light"
     },
     "output_type": "display_data"
    }
   ],
   "source": [
    "pmf_a = Pmf(df[\"AGE\"])\n",
    "thinkplot.Hist(pmf_a)\n",
    "plt.xticks(np.arange(0, 17, step=1), rotation='vertical')\n",
    "decorate(ylabel='Probability', title = 'Age Breakdown')"
   ]
  },
  {
   "cell_type": "code",
   "execution_count": 5,
   "metadata": {},
   "outputs": [
    {
     "data": {
      "image/png": "[encoded data removed]",
      "text/plain": [
       "<Figure size 432x288 with 1 Axes>"
      ]
     },
     "metadata": {
      "needs_background": "light"
     },
     "output_type": "display_data"
    }
   ],
   "source": [
    "pmf_a = Pmf(df[\"HEALTH_INSURANCE\"])\n",
    "thinkplot.Hist(pmf_a)\n",
    "plt.xticks(np.arange(0, 4, step=1), rotation='vertical')\n",
    "decorate(ylabel='Probability', title = 'Health Insurance Breakdown')"
   ]
  },
  {
   "cell_type": "code",
   "execution_count": 6,
   "metadata": {},
   "outputs": [
    {
     "data": {
      "image/png": "[encoded data removed]",
      "text/plain": [
       "<Figure size 432x288 with 1 Axes>"
      ]
     },
     "metadata": {
      "needs_background": "light"
     },
     "output_type": "display_data"
    }
   ],
   "source": [
    "pmf_a = Pmf(df[\"INCOME\"])\n",
    "thinkplot.Hist(pmf_a)\n",
    "plt.xticks(np.arange(0, 7, step=1), rotation='vertical')\n",
    "decorate(ylabel='Probability', title = 'Income Breakdown')"
   ]
  },
  {
   "cell_type": "code",
   "execution_count": 7,
   "metadata": {},
   "outputs": [
    {
     "data": {
      "image/png": "[encoded data removed]",
      "text/plain": [
       "<Figure size 432x288 with 1 Axes>"
      ]
     },
     "metadata": {
      "needs_background": "light"
     },
     "output_type": "display_data"
    }
   ],
   "source": [
    "pmf_a = Pmf(df[\"FAMILY_INCOME\"])\n",
    "thinkplot.Hist(pmf_a)\n",
    "plt.xticks(np.arange(0, 7, step=1), rotation='vertical')\n",
    "decorate(ylabel='Probability', title = 'Family Income Breakdown')"
   ]
  },
  {
   "cell_type": "code",
   "execution_count": 8,
   "metadata": {},
   "outputs": [
    {
     "data": {
      "image/png": "[encoded data removed]",
      "text/plain": [
       "<Figure size 432x288 with 1 Axes>"
      ]
     },
     "metadata": {
      "needs_background": "light"
     },
     "output_type": "display_data"
    }
   ],
   "source": [
    "pmf_a = Pmf(df[\"EDUCATION\"])\n",
    "thinkplot.Hist(pmf_a, width=width)\n",
    "plt.xticks(np.arange(0, 5, step=1), rotation='vertical')\n",
    "decorate(ylabel='Probability', title = 'Education Breakdown')"
   ]
  },
  {
   "cell_type": "markdown",
   "metadata": {},
   "source": [
    "## Exploring Crosstabs\n",
    "\n",
    "#### Health Insurance and Painkiller use"
   ]
  },
  {
   "cell_type": "markdown",
   "metadata": {},
   "source": [
    "It appears that for  general painkillers, people with private insurance or no insurance were more likely to have taken opioids, but people on Medicaid had a significantly higher proportion of people still taking painkillers compared to all that had ever started."
   ]
  },
  {
   "cell_type": "code",
   "execution_count": 9,
   "metadata": {},
   "outputs": [
    {
     "data": {
      "text/html": [
       "<div>\n",
       "<style scoped>\n",
       "    .dataframe tbody tr th:only-of-type {\n",
       "        vertical-align: middle;\n",
       "    }\n",
       "\n",
       "    .dataframe tbody tr th {\n",
       "        vertical-align: top;\n",
       "    }\n",
       "\n",
       "    .dataframe thead th {\n",
       "        text-align: right;\n",
       "    }\n",
       "</style>\n",
       "<table border=\"1\" class=\"dataframe\">\n",
       "  <thead>\n",
       "    <tr style=\"text-align: right;\">\n",
       "      <th>Used Prescription Painkillers</th>\n",
       "      <th>Used within year</th>\n",
       "      <th>Used in 12+ months</th>\n",
       "      <th>Never used</th>\n",
       "    </tr>\n",
       "    <tr>\n",
       "      <th>Health Insurance</th>\n",
       "      <th></th>\n",
       "      <th></th>\n",
       "      <th></th>\n",
       "    </tr>\n",
       "  </thead>\n",
       "  <tbody>\n",
       "    <tr>\n",
       "      <th>Has Medicaid/CHIP</th>\n",
       "      <td>32.189</td>\n",
       "      <td>12.900</td>\n",
       "      <td>54.911</td>\n",
       "    </tr>\n",
       "    <tr>\n",
       "      <th>Has Private HI</th>\n",
       "      <td>29.004</td>\n",
       "      <td>28.656</td>\n",
       "      <td>42.340</td>\n",
       "    </tr>\n",
       "    <tr>\n",
       "      <th>Has any other HI</th>\n",
       "      <td>34.198</td>\n",
       "      <td>23.449</td>\n",
       "      <td>42.352</td>\n",
       "    </tr>\n",
       "    <tr>\n",
       "      <th>Without any HI</th>\n",
       "      <td>28.177</td>\n",
       "      <td>19.232</td>\n",
       "      <td>52.591</td>\n",
       "    </tr>\n",
       "    <tr>\n",
       "      <th>All</th>\n",
       "      <td>46.272</td>\n",
       "      <td>23.676</td>\n",
       "      <td>30.052</td>\n",
       "    </tr>\n",
       "  </tbody>\n",
       "</table>\n",
       "</div>"
      ],
      "text/plain": [
       "Used Prescription Painkillers  Used within year  Used in 12+ months  \\\n",
       "Health Insurance                                                      \n",
       "Has Medicaid/CHIP                        32.189              12.900   \n",
       "Has Private HI                           29.004              28.656   \n",
       "Has any other HI                         34.198              23.449   \n",
       "Without any HI                           28.177              19.232   \n",
       "All                                      46.272              23.676   \n",
       "\n",
       "Used Prescription Painkillers  Never used  \n",
       "Health Insurance                           \n",
       "Has Medicaid/CHIP                  54.911  \n",
       "Has Private HI                     42.340  \n",
       "Has any other HI                   42.352  \n",
       "Without any HI                     52.591  \n",
       "All                                30.052  "
      ]
     },
     "execution_count": 9,
     "metadata": {},
     "output_type": "execute_result"
    }
   ],
   "source": [
    "ct = pd.crosstab(df[\"HEALTH_INSURANCE\"], df[\"PRES_PAINKILLER_USE\"], \n",
    "                 rownames=['Health Insurance'], colnames=['Used Prescription Painkillers'], \n",
    "                 margins=True, normalize='index')\n",
    "(ct*100).round(decimals=3)"
   ]
  },
  {
   "cell_type": "markdown",
   "metadata": {},
   "source": [
    "#### Come back to this to find survey method for misuse\n",
    "People with private health insurance had the lowest misuse rates, but we need to come back to see the metric for this variable\n",
    "\n",
    "Codebook:\n",
    "\n",
    "Misuse of prescription drugs is defined as use in any way\n",
    "not directed by a doctor, including use without a prescription of one's own medication; use in greater amounts, more often, or longer\n",
    "than told to take a drug; or use in any other way not directed by a doctor."
   ]
  },
  {
   "cell_type": "code",
   "execution_count": 10,
   "metadata": {},
   "outputs": [
    {
     "data": {
      "text/html": [
       "<div>\n",
       "<style scoped>\n",
       "    .dataframe tbody tr th:only-of-type {\n",
       "        vertical-align: middle;\n",
       "    }\n",
       "\n",
       "    .dataframe tbody tr th {\n",
       "        vertical-align: top;\n",
       "    }\n",
       "\n",
       "    .dataframe thead th {\n",
       "        text-align: right;\n",
       "    }\n",
       "</style>\n",
       "<table border=\"1\" class=\"dataframe\">\n",
       "  <thead>\n",
       "    <tr style=\"text-align: right;\">\n",
       "      <th>Misused Prescription Painkillers</th>\n",
       "      <th>Misused - past year</th>\n",
       "      <th>Did not misuse - past year</th>\n",
       "    </tr>\n",
       "    <tr>\n",
       "      <th>Health Insurance</th>\n",
       "      <th></th>\n",
       "      <th></th>\n",
       "    </tr>\n",
       "  </thead>\n",
       "  <tbody>\n",
       "    <tr>\n",
       "      <th>Has Medicaid/CHIP</th>\n",
       "      <td>0.933</td>\n",
       "      <td>99.067</td>\n",
       "    </tr>\n",
       "    <tr>\n",
       "      <th>Has Private HI</th>\n",
       "      <td>0.588</td>\n",
       "      <td>99.412</td>\n",
       "    </tr>\n",
       "    <tr>\n",
       "      <th>Has any other HI</th>\n",
       "      <td>0.519</td>\n",
       "      <td>99.481</td>\n",
       "    </tr>\n",
       "    <tr>\n",
       "      <th>Without any HI</th>\n",
       "      <td>1.532</td>\n",
       "      <td>98.468</td>\n",
       "    </tr>\n",
       "    <tr>\n",
       "      <th>All</th>\n",
       "      <td>99.247</td>\n",
       "      <td>0.753</td>\n",
       "    </tr>\n",
       "  </tbody>\n",
       "</table>\n",
       "</div>"
      ],
      "text/plain": [
       "Misused Prescription Painkillers  Misused - past year  \\\n",
       "Health Insurance                                        \n",
       "Has Medicaid/CHIP                               0.933   \n",
       "Has Private HI                                  0.588   \n",
       "Has any other HI                                0.519   \n",
       "Without any HI                                  1.532   \n",
       "All                                            99.247   \n",
       "\n",
       "Misused Prescription Painkillers  Did not misuse - past year  \n",
       "Health Insurance                                              \n",
       "Has Medicaid/CHIP                                     99.067  \n",
       "Has Private HI                                        99.412  \n",
       "Has any other HI                                      99.481  \n",
       "Without any HI                                        98.468  \n",
       "All                                                    0.753  "
      ]
     },
     "execution_count": 10,
     "metadata": {},
     "output_type": "execute_result"
    }
   ],
   "source": [
    "ct = pd.crosstab(df[\"HEALTH_INSURANCE\"], df[\"OXYCONTIN_MISUSED\"],\n",
    "                 rownames=['Health Insurance'], colnames=['Misused Prescription Painkillers'],\n",
    "                  margins=True, normalize='index')\n",
    "(ct*100).round(decimals=3)"
   ]
  },
  {
   "cell_type": "markdown",
   "metadata": {},
   "source": [
    "However, having any type of health insurance seems to be related to increased opioid use in the short and long term."
   ]
  },
  {
   "cell_type": "code",
   "execution_count": 11,
   "metadata": {},
   "outputs": [
    {
     "data": {
      "text/html": [
       "<div>\n",
       "<style scoped>\n",
       "    .dataframe tbody tr th:only-of-type {\n",
       "        vertical-align: middle;\n",
       "    }\n",
       "\n",
       "    .dataframe tbody tr th {\n",
       "        vertical-align: top;\n",
       "    }\n",
       "\n",
       "    .dataframe thead th {\n",
       "        text-align: right;\n",
       "    }\n",
       "</style>\n",
       "<table border=\"1\" class=\"dataframe\">\n",
       "  <thead>\n",
       "    <tr style=\"text-align: right;\">\n",
       "      <th>Used Prescription Painkillers</th>\n",
       "      <th>Used within year</th>\n",
       "      <th>Used in 12+ months</th>\n",
       "      <th>Never used</th>\n",
       "    </tr>\n",
       "    <tr>\n",
       "      <th>Any Health Insurance</th>\n",
       "      <th></th>\n",
       "      <th></th>\n",
       "      <th></th>\n",
       "    </tr>\n",
       "  </thead>\n",
       "  <tbody>\n",
       "    <tr>\n",
       "      <th>With HI</th>\n",
       "      <td>30.246</td>\n",
       "      <td>24.137</td>\n",
       "      <td>45.617</td>\n",
       "    </tr>\n",
       "    <tr>\n",
       "      <th>Without HI</th>\n",
       "      <td>28.177</td>\n",
       "      <td>19.232</td>\n",
       "      <td>52.591</td>\n",
       "    </tr>\n",
       "    <tr>\n",
       "      <th>All</th>\n",
       "      <td>46.272</td>\n",
       "      <td>23.676</td>\n",
       "      <td>30.052</td>\n",
       "    </tr>\n",
       "  </tbody>\n",
       "</table>\n",
       "</div>"
      ],
      "text/plain": [
       "Used Prescription Painkillers  Used within year  Used in 12+ months  \\\n",
       "Any Health Insurance                                                  \n",
       "With HI                                  30.246              24.137   \n",
       "Without HI                               28.177              19.232   \n",
       "All                                      46.272              23.676   \n",
       "\n",
       "Used Prescription Painkillers  Never used  \n",
       "Any Health Insurance                       \n",
       "With HI                            45.617  \n",
       "Without HI                         52.591  \n",
       "All                                30.052  "
      ]
     },
     "execution_count": 11,
     "metadata": {},
     "output_type": "execute_result"
    }
   ],
   "source": [
    "ct = pd.crosstab(df[\"ANY_HI\"], df[\"PRES_PAINKILLER_USE\"], \n",
    "                 rownames=['Any Health Insurance'], colnames=['Used Prescription Painkillers'],\n",
    "                 margins=True, normalize=\"index\")\n",
    "(ct*100).round(decimals=3)"
   ]
  },
  {
   "cell_type": "markdown",
   "metadata": {},
   "source": [
    "#### Filtering by: Used any painkiller"
   ]
  },
  {
   "cell_type": "code",
   "execution_count": 12,
   "metadata": {},
   "outputs": [],
   "source": [
    "used_pk = df[df.PRES_PAINKILLER_USE != \"Never used\"]"
   ]
  },
  {
   "cell_type": "markdown",
   "metadata": {},
   "source": [
    "Of those who had ever used prescription painkillers, those on Medicaid had a significantly higher chance of staying on painkillers or taking them recently. This could potentially be a proxy for length of time taking opioids."
   ]
  },
  {
   "cell_type": "code",
   "execution_count": 13,
   "metadata": {},
   "outputs": [
    {
     "data": {
      "text/html": [
       "<div>\n",
       "<style scoped>\n",
       "    .dataframe tbody tr th:only-of-type {\n",
       "        vertical-align: middle;\n",
       "    }\n",
       "\n",
       "    .dataframe tbody tr th {\n",
       "        vertical-align: top;\n",
       "    }\n",
       "\n",
       "    .dataframe thead th {\n",
       "        text-align: right;\n",
       "    }\n",
       "</style>\n",
       "<table border=\"1\" class=\"dataframe\">\n",
       "  <thead>\n",
       "    <tr style=\"text-align: right;\">\n",
       "      <th>Used Prescription Painkillers</th>\n",
       "      <th>Used within year</th>\n",
       "      <th>Used in 12+ months</th>\n",
       "    </tr>\n",
       "    <tr>\n",
       "      <th>Health Insurance</th>\n",
       "      <th></th>\n",
       "      <th></th>\n",
       "    </tr>\n",
       "  </thead>\n",
       "  <tbody>\n",
       "    <tr>\n",
       "      <th>Has Medicaid/CHIP</th>\n",
       "      <td>71.390</td>\n",
       "      <td>28.610</td>\n",
       "    </tr>\n",
       "    <tr>\n",
       "      <th>Has Private HI</th>\n",
       "      <td>50.301</td>\n",
       "      <td>49.699</td>\n",
       "    </tr>\n",
       "    <tr>\n",
       "      <th>Has any other HI</th>\n",
       "      <td>59.323</td>\n",
       "      <td>40.677</td>\n",
       "    </tr>\n",
       "    <tr>\n",
       "      <th>Without any HI</th>\n",
       "      <td>59.434</td>\n",
       "      <td>40.566</td>\n",
       "    </tr>\n",
       "    <tr>\n",
       "      <th>All</th>\n",
       "      <td>44.067</td>\n",
       "      <td>55.933</td>\n",
       "    </tr>\n",
       "  </tbody>\n",
       "</table>\n",
       "</div>"
      ],
      "text/plain": [
       "Used Prescription Painkillers  Used within year  Used in 12+ months\n",
       "Health Insurance                                                   \n",
       "Has Medicaid/CHIP                        71.390              28.610\n",
       "Has Private HI                           50.301              49.699\n",
       "Has any other HI                         59.323              40.677\n",
       "Without any HI                           59.434              40.566\n",
       "All                                      44.067              55.933"
      ]
     },
     "execution_count": 13,
     "metadata": {},
     "output_type": "execute_result"
    }
   ],
   "source": [
    "ct = pd.crosstab(used_pk[\"HEALTH_INSURANCE\"], used_pk[\"PRES_PAINKILLER_USE\"],\n",
    "                 rownames=['Health Insurance'], colnames=['Used Prescription Painkillers'],\n",
    "                 margins=True, normalize='index')\n",
    "(ct*100).round(decimals=3)"
   ]
  },
  {
   "cell_type": "markdown",
   "metadata": {},
   "source": [
    "## Explorimg PMFs"
   ]
  },
  {
   "cell_type": "code",
   "execution_count": 14,
   "metadata": {},
   "outputs": [
    {
     "data": {
      "image/png": "[encoded data removed]",
      "text/plain": [
       "<Figure size 432x288 with 1 Axes>"
      ]
     },
     "metadata": {
      "needs_background": "light"
     },
     "output_type": "display_data"
    }
   ],
   "source": [
    "no_hi = df[df.HEALTH_INSURANCE == \"Without any HI\"]\n",
    "pmf_a = Pmf(no_hi[\"PRES_PAINKILLER_USE\"])\n",
    "thinkplot.Hist(pmf_a)\n",
    "plt.xticks(np.arange(0, 3, step=1), rotation='vertical')\n",
    "decorate(ylabel='Probability', title = 'Likelihood of Using Opioids With No Health Insurance')"
   ]
  },
  {
   "cell_type": "markdown",
   "metadata": {},
   "source": [
    "Over half of all people who have ever tried opioids have continued to take them in the past year. Some of this could be because first time use was in the past year, but it is unlikely to be a majority. "
   ]
  },
  {
   "cell_type": "code",
   "execution_count": 15,
   "metadata": {},
   "outputs": [
    {
     "data": {
      "image/png": "[encoded data removed]",
      "text/plain": [
       "<Figure size 432x288 with 1 Axes>"
      ]
     },
     "metadata": {
      "needs_background": "light"
     },
     "output_type": "display_data"
    }
   ],
   "source": [
    "pmf_a = Pmf(used_pk[\"PRES_PAINKILLER_USE\"])\n",
    "thinkplot.Hist(pmf_a)\n",
    "plt.xticks(np.arange(0, 3, step=1), rotation='vertical')\n",
    "decorate(ylabel='Probability', title='Overall Likelihood of Recent Opioid Use for Past Users')"
   ]
  },
  {
   "cell_type": "code",
   "execution_count": 16,
   "metadata": {},
   "outputs": [
    {
     "data": {
      "image/png": "[encoded data removed]",
      "text/plain": [
       "<Figure size 432x288 with 1 Axes>"
      ]
     },
     "metadata": {
      "needs_background": "light"
     },
     "output_type": "display_data"
    }
   ],
   "source": [
    "pmf_a = Pmf(used_pk[\"REC_PAINKILLER_MISUSE\"])\n",
    "thinkplot.Hist(pmf_a)\n",
    "plt.xticks(np.arange(0, 4, step=1), rotation='vertical')\n",
    "decorate(ylabel='Probability', title='Recent painkiller misuse for people who have taken any')"
   ]
  },
  {
   "cell_type": "code",
   "execution_count": 17,
   "metadata": {},
   "outputs": [],
   "source": [
    "no_hi = df[df.HEALTH_INSURANCE == \"Without any HI\"]\n",
    "priv_hi = df[df.HEALTH_INSURANCE == \"Has Private HI\"]"
   ]
  },
  {
   "cell_type": "markdown",
   "metadata": {},
   "source": [
    "In all timeframes, those without health insurance are more likely to have abused painkillers than those with private health insurance."
   ]
  },
  {
   "cell_type": "code",
   "execution_count": 18,
   "metadata": {},
   "outputs": [
    {
     "data": {
      "image/png": "[encoded data removed]",
      "text/plain": [
       "<Figure size 432x288 with 1 Axes>"
      ]
     },
     "metadata": {
      "needs_background": "light"
     },
     "output_type": "display_data"
    }
   ],
   "source": [
    "pmf_a = Pmf(no_hi[\"REC_PAINKILLER_MISUSE\"])\n",
    "pmf_b = Pmf(priv_hi[\"REC_PAINKILLER_MISUSE\"])\n",
    "thinkplot.Hist(pmf_a, align='right', width=width, label = 'No Health Insurance')\n",
    "thinkplot.Hist(pmf_b, align='left', width=width, label = 'Private Health Insurance')\n",
    "plt.xticks(np.arange(0, 4, step=1), rotation='vertical')\n",
    "thinkplot.Config(ylabel='probability')"
   ]
  },
  {
   "cell_type": "code",
   "execution_count": 19,
   "metadata": {},
   "outputs": [
    {
     "data": {
      "image/png": "[encoded data removed]",
      "text/plain": [
       "<Figure size 432x288 with 1 Axes>"
      ]
     },
     "metadata": {
      "needs_background": "light"
     },
     "output_type": "display_data"
    }
   ],
   "source": [
    "pmf_c = Pmf(no_hi[\"ANY_PAINKILLER_LIFETIME\"])\n",
    "pmf_d = Pmf(priv_hi[\"ANY_PAINKILLER_LIFETIME\"])\n",
    "thinkplot.Hist(pmf_c, align='right', width=width, label = 'No Health Insurance')\n",
    "thinkplot.Hist(pmf_d, align='left', width=width, label = 'Private Health Insurance')\n",
    "plt.xticks(np.arange(0, 6, step=1), rotation='vertical')\n",
    "thinkplot.Config(ylabel='probability')"
   ]
  },
  {
   "cell_type": "code",
   "execution_count": 20,
   "metadata": {},
   "outputs": [
    {
     "data": {
      "image/png": "[encoded data removed]",
      "text/plain": [
       "<Figure size 432x288 with 1 Axes>"
      ]
     },
     "metadata": {
      "needs_background": "light"
     },
     "output_type": "display_data"
    }
   ],
   "source": [
    "pmf_e = Pmf(no_hi[\"PRES_PAINKILLER_USE\"])\n",
    "pmf_f = Pmf(priv_hi[\"PRES_PAINKILLER_USE\"])\n",
    "thinkplot.Hist(pmf_e, align='right', width=width, label = 'No Health Insurance')\n",
    "thinkplot.Hist(pmf_f, align='left', width=width, label = 'Private Health Insurance')\n",
    "plt.xticks(np.arange(0, 3, step=1), rotation='vertical')\n",
    "thinkplot.Config(ylabel='probability')"
   ]
  }
 ],
 "metadata": {
  "kernelspec": {
   "display_name": "Python 3",
   "language": "python",
   "name": "python3"
  },
  "language_info": {
   "codemirror_mode": {
    "name": "ipython",
    "version": 3
   },
   "file_extension": ".py",
   "mimetype": "text/x-python",
   "name": "python",
   "nbconvert_exporter": "python",
   "pygments_lexer": "ipython3",
   "version": "3.6.8"
  }
 },
 "nbformat": 4,
 "nbformat_minor": 2
}
