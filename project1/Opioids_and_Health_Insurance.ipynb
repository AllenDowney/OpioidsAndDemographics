{
 "cells": [
  {
   "cell_type": "markdown",
   "metadata": {},
   "source": [
    "# How does health insurance affect rates of use and abuse of opioids?\n",
    "### Data Science - 2019\n",
    "### Filipe Borba & Micah Reid"
   ]
  },
  {
   "cell_type": "code",
   "execution_count": 1,
   "metadata": {},
   "outputs": [],
   "source": [
    "%matplotlib inline\n",
    "\n",
    "import pandas as pd\n",
    "import numpy as np\n",
    "\n",
    "import matplotlib.pyplot as plt\n",
    "import seaborn as sns\n",
    "sns.set(style='white')\n",
    "\n",
    "import utils\n",
    "from utils import decorate\n",
    "from thinkstats2 import Pmf, Cdf\n",
    "import thinkplot\n",
    "width = 0.4 #Width of the histograms, optional"
   ]
  },
  {
   "cell_type": "markdown",
   "metadata": {},
   "source": [
    "\"The National Survey on Drug Use and Health (NSDUH) provides up-to-date information on tobacco, alcohol, and drug use, mental health and other health-related issues in the United States.\n",
    "\n",
    "NSDUH began in 1971 and is conducted every year in all 50 states and the District of Columbia. This year almost 70,000 people will be interviewed for this important study.\n",
    "\n",
    "Information from NSDUH is used to support prevention and treatment programs, monitor substance use trends, estimate the need for treatment and inform public health policy.\"\n",
    "\n",
    "The data loaded here is the result of a cleaned version of the NSDUH 2018 dataset. Only the important variables were separated and treated so the analysis would be less confusing. If you want to know more about that, access the \"Data Management\" notebook!\n",
    "\n",
    "We are very interested in the opioid crisis in the United States, so we wanted to investigate how the health insurance system is related to this problem. We have a more exploratory approach to the dataset and cenario, but we explain every passage so the reader knows what is happening."
   ]
  },
  {
   "cell_type": "code",
   "execution_count": 2,
   "metadata": {},
   "outputs": [
    {
     "data": {
      "text/html": [
       "<div>\n",
       "<style scoped>\n",
       "    .dataframe tbody tr th:only-of-type {\n",
       "        vertical-align: middle;\n",
       "    }\n",
       "\n",
       "    .dataframe tbody tr th {\n",
       "        vertical-align: top;\n",
       "    }\n",
       "\n",
       "    .dataframe thead th {\n",
       "        text-align: right;\n",
       "    }\n",
       "</style>\n",
       "<table border=\"1\" class=\"dataframe\">\n",
       "  <thead>\n",
       "    <tr style=\"text-align: right;\">\n",
       "      <th></th>\n",
       "      <th>SEX</th>\n",
       "      <th>AGE</th>\n",
       "      <th>PRES_PAINKILLER_USE</th>\n",
       "      <th>REC_PAINKILLER_MISUSE</th>\n",
       "      <th>ANY_PAINKILLER_LIFETIME</th>\n",
       "      <th>OXYCONTIN_USE</th>\n",
       "      <th>OXYCONTIN_MISUSED</th>\n",
       "      <th>INCOME</th>\n",
       "      <th>FAMILY_INCOME</th>\n",
       "      <th>EDUCATION</th>\n",
       "      <th>CAIDCHIP_HI</th>\n",
       "      <th>PRIVATE_HI</th>\n",
       "      <th>ANY_HI</th>\n",
       "      <th>HEALTH_INSURANCE</th>\n",
       "    </tr>\n",
       "  </thead>\n",
       "  <tbody>\n",
       "    <tr>\n",
       "      <th>0</th>\n",
       "      <td>Male</td>\n",
       "      <td>65+</td>\n",
       "      <td>Never used</td>\n",
       "      <td>Never misused</td>\n",
       "      <td>Not used</td>\n",
       "      <td>Not used in past year</td>\n",
       "      <td>Did not misuse - past year</td>\n",
       "      <td>75k+</td>\n",
       "      <td>75k+</td>\n",
       "      <td>College Graduate</td>\n",
       "      <td>Doesn't have Medicaid/CHIP</td>\n",
       "      <td>Has Private HI</td>\n",
       "      <td>With HI</td>\n",
       "      <td>Has Private HI</td>\n",
       "    </tr>\n",
       "    <tr>\n",
       "      <th>1</th>\n",
       "      <td>Male</td>\n",
       "      <td>35-49</td>\n",
       "      <td>Used in 12+ months</td>\n",
       "      <td>Never misused</td>\n",
       "      <td>Used</td>\n",
       "      <td>Not used in past year</td>\n",
       "      <td>Did not misuse - past year</td>\n",
       "      <td>30-40k</td>\n",
       "      <td>30-40k</td>\n",
       "      <td>College Graduate</td>\n",
       "      <td>Has Medicaid/CHIP</td>\n",
       "      <td>Doesn't have Private HI</td>\n",
       "      <td>With HI</td>\n",
       "      <td>Has Medicaid/CHIP</td>\n",
       "    </tr>\n",
       "  </tbody>\n",
       "</table>\n",
       "</div>"
      ],
      "text/plain": [
       "    SEX    AGE PRES_PAINKILLER_USE REC_PAINKILLER_MISUSE  \\\n",
       "0  Male    65+          Never used         Never misused   \n",
       "1  Male  35-49  Used in 12+ months         Never misused   \n",
       "\n",
       "  ANY_PAINKILLER_LIFETIME          OXYCONTIN_USE           OXYCONTIN_MISUSED  \\\n",
       "0                Not used  Not used in past year  Did not misuse - past year   \n",
       "1                    Used  Not used in past year  Did not misuse - past year   \n",
       "\n",
       "   INCOME FAMILY_INCOME         EDUCATION                 CAIDCHIP_HI  \\\n",
       "0    75k+          75k+  College Graduate  Doesn't have Medicaid/CHIP   \n",
       "1  30-40k        30-40k  College Graduate           Has Medicaid/CHIP   \n",
       "\n",
       "                PRIVATE_HI   ANY_HI   HEALTH_INSURANCE  \n",
       "0           Has Private HI  With HI     Has Private HI  \n",
       "1  Doesn't have Private HI  With HI  Has Medicaid/CHIP  "
      ]
     },
     "execution_count": 2,
     "metadata": {},
     "output_type": "execute_result"
    }
   ],
   "source": [
    "df = pd.read_pickle('cleaned_nsduh.pkl')\n",
    "df.head(2)"
   ]
  },
  {
   "cell_type": "markdown",
   "metadata": {},
   "source": [
    "## Variables\n",
    "#### Demographics\n",
    "irsex = SEX = Respondent's sex | (\"Male\",\"Female\")  \n",
    "AGE2 = AGE = Respondent's age | (\"12\", \"13\", \"14\", \"15\", \"16\", \"17\", \"18\", \"19\", \"20\", \"21\", \"22-23\", \"24-25\", \"26-29\", \"30-34\", \"35-49\", \"50-64\", \"65+\")  \n",
    "IRPINC3 = INCOME = Respondent's total income | (\"10k or less\", \"10-20k\", \"20-30k\", \"30-40k\", \"40-50k\", \"50-75k\", \"75k+\")  \n",
    "IRFAMIN3 = FAMILY_INCOME = Respondent's family total income | (\"10k or less\", \"10-20k\", \"20-30k\", \"30-40k\", \"40-50k\", \"50-75k\", \"75k+\")  \n",
    "eduhighcat = EDUCATION = Respondent's education category | (\"Less High School\", \"High School Grad\", \"Some Coll/Assoc Degree\", \"College Graduate\", \"12-17 year olds\")  \n",
    "\n",
    "#### Health Insurance\n",
    "irmcdchp = CAIDCHIP_HI = If respondent has or not the CAIDCHIP Health Insurance | (\"Has Medicaid/CHIP\", \"Doesn't have Medicaid/CHIP\")  \n",
    "irprvhlt = PRIVATE_HI = If respondent has or not any Private Health Insurance | (\"Has Private HI\", \"Doesn't have Private HI\")  \n",
    "IRINSUR4 = ANY_HI = If respondent has or not any kind of Health Insurance | (\"With HI\", \"Without HI\")  \n",
    "\n",
    "#### Pain Killer usage\n",
    "iroxcnanyyr = OXYCONTIN_USE =  Any OxyContin use recency | (\"Used in past year\", \"Not used in past year\")  \n",
    "iroxcnnmyr = OXYCONTIN_MISUSED = OxyContin past year misuse | (\"Misused - past year\", \"Did not misuse - past year\")  \n",
    "pnranylif = ANY_PAINKILLER_LIFETIME = Any pain reliever used in lifetime | (\"Used\", \"Not used\", \"Used (assumed)\", \"Don't Know\", \"Refused\", \"Blank\")  \n",
    "irpnranyrec = PRES_PAINKILLER_USE = Any use of pain reliever | (\"Used within year\", \"Used in 12+ months\", \"Never used\")  \n",
    "irpnrnmrec = REC_PAINKILLER_MISUSE = Pain reliever misuse recency | (\"Misused in last 30 days\", \"Misused 31 days-12 months\", \"Misused 12+ months\", \"Never misused\")   "
   ]
  },
  {
   "cell_type": "markdown",
   "metadata": {},
   "source": [
    "## Demographic Information\n",
    "The first thing we'll analyse is the characteristic of the average respondents in the dataset. We need to see how well the population is distributed and check for oversampling features. For that, we'll use common variables (age, sex, education, etc.) to look more into it."
   ]
  },
  {
   "cell_type": "code",
   "execution_count": 3,
   "metadata": {},
   "outputs": [
    {
     "name": "stdout",
     "output_type": "stream",
     "text": [
      "3.912858056720453\n"
     ]
    },
    {
     "data": {
      "image/png": "[encoded data removed]",
      "text/plain": [
       "<Figure size 432x288 with 1 Axes>"
      ]
     },
     "metadata": {
      "needs_background": "light"
     },
     "output_type": "display_data"
    }
   ],
   "source": [
    "pmf_a = Pmf(df[\"SEX\"])\n",
    "thinkplot.Hist(pmf_a)\n",
    "plt.xticks(np.arange(0, 2, step=1), rotation='vertical')\n",
    "decorate(ylabel='Probability', title = 'Sex Breakdown')\n",
    "print((pmf_a[\"Female\"] - pmf_a[\"Male\"])*100)"
   ]
  },
  {
   "cell_type": "markdown",
   "metadata": {},
   "source": [
    "As we can see from the sex PMF, the dataset has slightly more female respondents than male. The difference is 3.91%."
   ]
  },
  {
   "cell_type": "code",
   "execution_count": 4,
   "metadata": {},
   "outputs": [
    {
     "data": {
      "image/png": "[encoded data removed]",
      "text/plain": [
       "<Figure size 432x288 with 1 Axes>"
      ]
     },
     "metadata": {
      "needs_background": "light"
     },
     "output_type": "display_data"
    }
   ],
   "source": [
    "pmf_a = Pmf(df[\"AGE\"])\n",
    "thinkplot.Hist(pmf_a)\n",
    "plt.xticks(np.arange(0, 17, step=1), rotation='vertical')\n",
    "decorate(ylabel='Probability', title = 'Age Breakdown')"
   ]
  },
  {
   "cell_type": "code",
   "execution_count": 5,
   "metadata": {},
   "outputs": [
    {
     "name": "stdout",
     "output_type": "stream",
     "text": [
      "12-17:  24.38339611912716\n",
      "18-21:  11.73857417016135\n",
      "22-23:  6.317080105195822\n",
      "24-25:  6.537422702395338\n",
      "26-29:  7.088279195394128\n",
      "30-34:  8.524059990049045\n",
      "35-49:  19.926789395124032\n",
      "50-64:  8.879451275854716\n",
      "65+:  6.604947046698416\n"
     ]
    }
   ],
   "source": [
    "print(\"12-17: \", (pmf_a[\"12\"]+pmf_a[\"13\"]+pmf_a[\"14\"]+pmf_a[\"15\"]+pmf_a[\"16\"]+pmf_a[\"17\"])*100)\n",
    "print(\"18-21: \", (pmf_a[\"18\"]+pmf_a[\"19\"]+pmf_a[\"20\"]+pmf_a[\"21\"])*100)\n",
    "print(\"22-23: \", (pmf_a[\"22-23\"])*100)\n",
    "print(\"24-25: \", (pmf_a[\"24-25\"])*100)\n",
    "print(\"26-29: \", (pmf_a[\"26-29\"])*100)\n",
    "print(\"30-34: \", (pmf_a[\"30-34\"])*100)\n",
    "print(\"35-49: \", (pmf_a[\"35-49\"])*100)\n",
    "print(\"50-64: \", (pmf_a[\"50-64\"])*100)\n",
    "print(\"65+: \", (pmf_a[\"65+\"])*100)"
   ]
  },
  {
   "cell_type": "markdown",
   "metadata": {},
   "source": [
    "This is a tricky PMF, because we have different ranges of ages for every category, so we need to be extra careful while analysing.\n",
    "First, we can see that through ages 12 to 21, we have only one category for each age, while the others are more in a \"range\" organization. By summing the probabilities of ages 12-17 (underaged) we can see that they represent a huge part of the dataset. If we consider the 12-21 year old range, they represent 36% of the respondents in the dataset. Relatively, it's a big number, so we have to consider oversampling for young people."
   ]
  },
  {
   "cell_type": "code",
   "execution_count": 6,
   "metadata": {},
   "outputs": [
    {
     "data": {
      "image/png": "[encoded data removed]",
      "text/plain": [
       "<Figure size 432x288 with 1 Axes>"
      ]
     },
     "metadata": {
      "needs_background": "light"
     },
     "output_type": "display_data"
    }
   ],
   "source": [
    "pmf_a = Pmf(df[\"HEALTH_INSURANCE\"])\n",
    "thinkplot.Hist(pmf_a)\n",
    "plt.xticks(np.arange(0, 4, step=1), rotation='vertical')\n",
    "decorate(ylabel='Probability', title = 'Health Insurance Breakdown')"
   ]
  },
  {
   "cell_type": "code",
   "execution_count": 7,
   "metadata": {},
   "outputs": [
    {
     "data": {
      "text/plain": [
       "Pmf({'Has Private HI': 0.5980169166252044, 'Has Medicaid/CHIP': 0.23610420072499824, 'Without any HI': 0.09396545596701969, 'Has any other HI': 0.07191342668277774})"
      ]
     },
     "execution_count": 7,
     "metadata": {},
     "output_type": "execute_result"
    }
   ],
   "source": [
    "pmf_a"
   ]
  },
  {
   "cell_type": "markdown",
   "metadata": {},
   "source": [
    "We can clearly see that most people have Private Health Insurance in the dataset too, so we need to be careful with that. Almost 60% of the respondents have a kind of private health insurance."
   ]
  },
  {
   "cell_type": "code",
   "execution_count": 8,
   "metadata": {},
   "outputs": [
    {
     "data": {
      "image/png": "[encoded data removed]",
      "text/plain": [
       "<Figure size 432x288 with 1 Axes>"
      ]
     },
     "metadata": {
      "needs_background": "light"
     },
     "output_type": "display_data"
    }
   ],
   "source": [
    "pmf_a = Pmf(df[\"INCOME\"])\n",
    "thinkplot.Hist(pmf_a)\n",
    "plt.xticks(np.arange(0, 7, step=1), rotation='vertical')\n",
    "decorate(ylabel='Probability', title = 'Income Breakdown')"
   ]
  },
  {
   "cell_type": "markdown",
   "metadata": {},
   "source": [
    "Lots of 12-21 year olds, that's one of the reasons why the 10k or less category is has a higher probability in the PMF. In the end, it is not a good variable to rely on, so Family Income can tell us more."
   ]
  },
  {
   "cell_type": "code",
   "execution_count": 9,
   "metadata": {
    "scrolled": true
   },
   "outputs": [
    {
     "data": {
      "image/png": "[encoded data removed]",
      "text/plain": [
       "<Figure size 432x288 with 1 Axes>"
      ]
     },
     "metadata": {
      "needs_background": "light"
     },
     "output_type": "display_data"
    }
   ],
   "source": [
    "pmf_a = Pmf(df[\"FAMILY_INCOME\"])\n",
    "thinkplot.Hist(pmf_a)\n",
    "plt.xticks(np.arange(0, 7, step=1), rotation='vertical')\n",
    "decorate(ylabel='Probability', title = 'Family Income Breakdown')"
   ]
  },
  {
   "cell_type": "markdown",
   "metadata": {},
   "source": [
    "Family Income has a better approach because it is not as dependant on the respondent's age. As we can see, the 75k+ category is higher, which can one of the reasons to explain why respondents in this dataset are more likely to have a private health insurance."
   ]
  },
  {
   "cell_type": "code",
   "execution_count": 10,
   "metadata": {},
   "outputs": [
    {
     "data": {
      "image/png": "[encoded data removed]",
      "text/plain": [
       "<Figure size 432x288 with 1 Axes>"
      ]
     },
     "metadata": {
      "needs_background": "light"
     },
     "output_type": "display_data"
    }
   ],
   "source": [
    "pmf_a = Pmf(df[\"EDUCATION\"])\n",
    "thinkplot.Hist(pmf_a, width=width)\n",
    "plt.xticks(np.arange(0, 5, step=1), rotation='vertical')\n",
    "decorate(ylabel='Probability', title = 'Education Breakdown')"
   ]
  },
  {
   "cell_type": "markdown",
   "metadata": {},
   "source": [
    "Looking at the education PMF, we can see that most of the respondents older than 17 years have at least finished High School. Only 10% of the respondents have less than High School education, which makes this group a little less represented in the dataset."
   ]
  },
  {
   "cell_type": "markdown",
   "metadata": {},
   "source": [
    "## Comparing two groups\n",
    "##### No health insurance vs Private health insurance"
   ]
  },
  {
   "cell_type": "code",
   "execution_count": 11,
   "metadata": {},
   "outputs": [],
   "source": [
    "no_hi = df[df.HEALTH_INSURANCE != \"Has Private HI\"]\n",
    "priv_hi = df[df.HEALTH_INSURANCE == \"Has Private HI\"]"
   ]
  },
  {
   "cell_type": "code",
   "execution_count": 12,
   "metadata": {},
   "outputs": [
    {
     "data": {
      "image/png": "[encoded data removed]",
      "text/plain": [
       "<Figure size 432x288 with 1 Axes>"
      ]
     },
     "metadata": {
      "needs_background": "light"
     },
     "output_type": "display_data"
    }
   ],
   "source": [
    "pmf_a = Pmf(no_hi[\"SEX\"], label='Others')\n",
    "pmf_b = Pmf(priv_hi[\"SEX\"], label='Private Health Insurance')\n",
    "thinkplot.Hist(pmf_a, align=\"right\", width=width)\n",
    "thinkplot.Hist(pmf_b, align=\"left\", width=width)\n",
    "plt.xticks(np.arange(0, 4, step=1), rotation='vertical')\n",
    "decorate(ylabel='Probability', title='Sex Breakdown', loc='lower right')"
   ]
  },
  {
   "cell_type": "markdown",
   "metadata": {},
   "source": [
    "Comparing both groups, we can see that there are small differences between the groups, but if the respondent doesn't have a private health insurance, it is slightly more likely to be a female respondent."
   ]
  },
  {
   "cell_type": "code",
   "execution_count": 13,
   "metadata": {},
   "outputs": [
    {
     "data": {
      "image/png": "[encoded data removed]",
      "text/plain": [
       "<Figure size 432x288 with 1 Axes>"
      ]
     },
     "metadata": {
      "needs_background": "light"
     },
     "output_type": "display_data"
    }
   ],
   "source": [
    "pmf_a = Pmf(no_hi[\"AGE\"], label='Others')\n",
    "pmf_b = Pmf(priv_hi[\"AGE\"], label='Private Health Insurance')\n",
    "thinkplot.Hist(pmf_a, align=\"right\", width=width)\n",
    "thinkplot.Hist(pmf_b, align=\"left\", width=width)\n",
    "plt.xticks(np.arange(0, 18, step=1), rotation='vertical')\n",
    "decorate(ylabel='Probability', title='Age Breakdown', loc='upper left')"
   ]
  },
  {
   "cell_type": "markdown",
   "metadata": {},
   "source": [
    "Looking at the age PMF for both groups, it is pretty visible that there's a significant difference in the 35-49 and 50-64 age range. This may be due to the idea that older people are more likely to be financially successful than young people that are just starting their carreers and don't have apparent health problems."
   ]
  },
  {
   "cell_type": "code",
   "execution_count": 14,
   "metadata": {},
   "outputs": [
    {
     "data": {
      "image/png": "[encoded data removed]",
      "text/plain": [
       "<Figure size 432x288 with 1 Axes>"
      ]
     },
     "metadata": {
      "needs_background": "light"
     },
     "output_type": "display_data"
    }
   ],
   "source": [
    "pmf_a = Pmf(no_hi[\"FAMILY_INCOME\"], label='Others')\n",
    "pmf_b = Pmf(priv_hi[\"FAMILY_INCOME\"], label='Private Health Insurance')\n",
    "thinkplot.Hist(pmf_a, align=\"right\", width=width)\n",
    "thinkplot.Hist(pmf_b, align=\"left\", width=width)\n",
    "plt.xticks(np.arange(0, 7, step=1), rotation='vertical')\n",
    "decorate(ylabel='Probability', title='Family Income Breakdown', loc='upper left')"
   ]
  },
  {
   "cell_type": "markdown",
   "metadata": {},
   "source": [
    "Looking at the family income PMFs, there is an obvious difference between groups. People who have a private insurance tend to be much richer than the other group. This will reflect on education, but also probably on how they perceive health problems and how they misuse medicines. Our expectation is that people who have private insurance will be less inclined to misuse medicines."
   ]
  },
  {
   "cell_type": "code",
   "execution_count": 15,
   "metadata": {},
   "outputs": [
    {
     "data": {
      "image/png": "[encoded data removed]",
      "text/plain": [
       "<Figure size 432x288 with 1 Axes>"
      ]
     },
     "metadata": {
      "needs_background": "light"
     },
     "output_type": "display_data"
    }
   ],
   "source": [
    "pmf_a = Pmf(no_hi[\"EDUCATION\"], label='Others')\n",
    "pmf_b = Pmf(priv_hi[\"EDUCATION\"], label='Private Health Insurance')\n",
    "thinkplot.Hist(pmf_a, align=\"right\", width=width)\n",
    "thinkplot.Hist(pmf_b, align=\"left\", width=width)\n",
    "plt.xticks(np.arange(0, 10, step=1), rotation='vertical')\n",
    "decorate(ylabel='Probability', title='Education Breakdown', loc='upper right')"
   ]
  },
  {
   "cell_type": "markdown",
   "metadata": {},
   "source": [
    "As expected, people who have private health insurance tend to have a better education than the other group (higher family income, older people and other factors). This tells us that probably people who have a private health insurance are less inclined to misuse medicines and are more conscious about their health."
   ]
  },
  {
   "cell_type": "markdown",
   "metadata": {},
   "source": [
    "## Exploring Crosstabs\n",
    "\n",
    "#### Health Insurance and Painkiller use"
   ]
  },
  {
   "cell_type": "code",
   "execution_count": 16,
   "metadata": {},
   "outputs": [
    {
     "data": {
      "text/html": [
       "<div>\n",
       "<style scoped>\n",
       "    .dataframe tbody tr th:only-of-type {\n",
       "        vertical-align: middle;\n",
       "    }\n",
       "\n",
       "    .dataframe tbody tr th {\n",
       "        vertical-align: top;\n",
       "    }\n",
       "\n",
       "    .dataframe thead th {\n",
       "        text-align: right;\n",
       "    }\n",
       "</style>\n",
       "<table border=\"1\" class=\"dataframe\">\n",
       "  <thead>\n",
       "    <tr style=\"text-align: right;\">\n",
       "      <th>Used Prescription Painkillers</th>\n",
       "      <th>Used within year</th>\n",
       "      <th>Used in 12+ months</th>\n",
       "      <th>Never used</th>\n",
       "    </tr>\n",
       "    <tr>\n",
       "      <th>Health Insurance</th>\n",
       "      <th></th>\n",
       "      <th></th>\n",
       "      <th></th>\n",
       "    </tr>\n",
       "  </thead>\n",
       "  <tbody>\n",
       "    <tr>\n",
       "      <th>Has Medicaid/CHIP</th>\n",
       "      <td>32.189</td>\n",
       "      <td>12.900</td>\n",
       "      <td>54.911</td>\n",
       "    </tr>\n",
       "    <tr>\n",
       "      <th>Has Private HI</th>\n",
       "      <td>29.004</td>\n",
       "      <td>28.656</td>\n",
       "      <td>42.340</td>\n",
       "    </tr>\n",
       "    <tr>\n",
       "      <th>Has any other HI</th>\n",
       "      <td>34.198</td>\n",
       "      <td>23.449</td>\n",
       "      <td>42.352</td>\n",
       "    </tr>\n",
       "    <tr>\n",
       "      <th>Without any HI</th>\n",
       "      <td>28.177</td>\n",
       "      <td>19.232</td>\n",
       "      <td>52.591</td>\n",
       "    </tr>\n",
       "    <tr>\n",
       "      <th>All</th>\n",
       "      <td>46.272</td>\n",
       "      <td>23.676</td>\n",
       "      <td>30.052</td>\n",
       "    </tr>\n",
       "  </tbody>\n",
       "</table>\n",
       "</div>"
      ],
      "text/plain": [
       "Used Prescription Painkillers  Used within year  Used in 12+ months  \\\n",
       "Health Insurance                                                      \n",
       "Has Medicaid/CHIP                        32.189              12.900   \n",
       "Has Private HI                           29.004              28.656   \n",
       "Has any other HI                         34.198              23.449   \n",
       "Without any HI                           28.177              19.232   \n",
       "All                                      46.272              23.676   \n",
       "\n",
       "Used Prescription Painkillers  Never used  \n",
       "Health Insurance                           \n",
       "Has Medicaid/CHIP                  54.911  \n",
       "Has Private HI                     42.340  \n",
       "Has any other HI                   42.352  \n",
       "Without any HI                     52.591  \n",
       "All                                30.052  "
      ]
     },
     "execution_count": 16,
     "metadata": {},
     "output_type": "execute_result"
    }
   ],
   "source": [
    "ct = pd.crosstab(df[\"HEALTH_INSURANCE\"], df[\"PRES_PAINKILLER_USE\"], \n",
    "                 rownames=['Health Insurance'], colnames=['Used Prescription Painkillers'], \n",
    "                 margins=True, normalize='index')\n",
    "(ct*100).round(decimals=3)"
   ]
  },
  {
   "cell_type": "markdown",
   "metadata": {},
   "source": [
    "As we can see from the crosstable, people who have a private health insurance or others (except Medicaid/CHIP) were more likely to have taken opioids. Also, people who have Medicaid/Chip were more likely to have taken painkillers within the year than people without insurance, but they were less likely to have used in more than a year ago."
   ]
  },
  {
   "cell_type": "code",
   "execution_count": 17,
   "metadata": {},
   "outputs": [
    {
     "data": {
      "text/html": [
       "<div>\n",
       "<style scoped>\n",
       "    .dataframe tbody tr th:only-of-type {\n",
       "        vertical-align: middle;\n",
       "    }\n",
       "\n",
       "    .dataframe tbody tr th {\n",
       "        vertical-align: top;\n",
       "    }\n",
       "\n",
       "    .dataframe thead th {\n",
       "        text-align: right;\n",
       "    }\n",
       "</style>\n",
       "<table border=\"1\" class=\"dataframe\">\n",
       "  <thead>\n",
       "    <tr style=\"text-align: right;\">\n",
       "      <th>Misused Prescription Painkillers</th>\n",
       "      <th>Misused in last 30 days</th>\n",
       "      <th>Misused 31 days-12 months</th>\n",
       "      <th>Misused 12+ months</th>\n",
       "      <th>Never misused</th>\n",
       "    </tr>\n",
       "    <tr>\n",
       "      <th>Health Insurance</th>\n",
       "      <th></th>\n",
       "      <th></th>\n",
       "      <th></th>\n",
       "      <th></th>\n",
       "    </tr>\n",
       "  </thead>\n",
       "  <tbody>\n",
       "    <tr>\n",
       "      <th>Has Medicaid/CHIP</th>\n",
       "      <td>1.957</td>\n",
       "      <td>4.260</td>\n",
       "      <td>4.892</td>\n",
       "      <td>88.891</td>\n",
       "    </tr>\n",
       "    <tr>\n",
       "      <th>Has Private HI</th>\n",
       "      <td>1.037</td>\n",
       "      <td>3.046</td>\n",
       "      <td>6.029</td>\n",
       "      <td>89.888</td>\n",
       "    </tr>\n",
       "    <tr>\n",
       "      <th>Has any other HI</th>\n",
       "      <td>1.334</td>\n",
       "      <td>2.891</td>\n",
       "      <td>4.868</td>\n",
       "      <td>90.907</td>\n",
       "    </tr>\n",
       "    <tr>\n",
       "      <th>Without any HI</th>\n",
       "      <td>2.402</td>\n",
       "      <td>4.293</td>\n",
       "      <td>6.222</td>\n",
       "      <td>87.084</td>\n",
       "    </tr>\n",
       "    <tr>\n",
       "      <th>All</th>\n",
       "      <td>89.463</td>\n",
       "      <td>5.695</td>\n",
       "      <td>3.438</td>\n",
       "      <td>1.404</td>\n",
       "    </tr>\n",
       "  </tbody>\n",
       "</table>\n",
       "</div>"
      ],
      "text/plain": [
       "Misused Prescription Painkillers  Misused in last 30 days  \\\n",
       "Health Insurance                                            \n",
       "Has Medicaid/CHIP                                   1.957   \n",
       "Has Private HI                                      1.037   \n",
       "Has any other HI                                    1.334   \n",
       "Without any HI                                      2.402   \n",
       "All                                                89.463   \n",
       "\n",
       "Misused Prescription Painkillers  Misused 31 days-12 months  \\\n",
       "Health Insurance                                              \n",
       "Has Medicaid/CHIP                                     4.260   \n",
       "Has Private HI                                        3.046   \n",
       "Has any other HI                                      2.891   \n",
       "Without any HI                                        4.293   \n",
       "All                                                   5.695   \n",
       "\n",
       "Misused Prescription Painkillers  Misused 12+ months  Never misused  \n",
       "Health Insurance                                                     \n",
       "Has Medicaid/CHIP                              4.892         88.891  \n",
       "Has Private HI                                 6.029         89.888  \n",
       "Has any other HI                               4.868         90.907  \n",
       "Without any HI                                 6.222         87.084  \n",
       "All                                            3.438          1.404  "
      ]
     },
     "execution_count": 17,
     "metadata": {},
     "output_type": "execute_result"
    }
   ],
   "source": [
    "ct = pd.crosstab(df[\"HEALTH_INSURANCE\"], df[\"REC_PAINKILLER_MISUSE\"],\n",
    "                 rownames=['Health Insurance'], colnames=['Misused Prescription Painkillers'],\n",
    "                  margins=True, normalize='index')\n",
    "(ct*100).round(decimals=3)"
   ]
  },
  {
   "cell_type": "markdown",
   "metadata": {},
   "source": [
    "Misuse of prescription drugs is defined as use in any way not directed by a doctor, including use without a prescription of one's own medication; use in greater amounts, more often, or longer than told to take a drug; or use in any other way not directed by a doctor.  \n",
    "As we can see from the crosstab, there a few small differences between the misuse of the groups. In general, people without any health insurance are slightly more likely to have misused opioids in some way."
   ]
  },
  {
   "cell_type": "code",
   "execution_count": 18,
   "metadata": {},
   "outputs": [
    {
     "data": {
      "text/html": [
       "<div>\n",
       "<style scoped>\n",
       "    .dataframe tbody tr th:only-of-type {\n",
       "        vertical-align: middle;\n",
       "    }\n",
       "\n",
       "    .dataframe tbody tr th {\n",
       "        vertical-align: top;\n",
       "    }\n",
       "\n",
       "    .dataframe thead th {\n",
       "        text-align: right;\n",
       "    }\n",
       "</style>\n",
       "<table border=\"1\" class=\"dataframe\">\n",
       "  <thead>\n",
       "    <tr style=\"text-align: right;\">\n",
       "      <th>Used Prescription Painkillers</th>\n",
       "      <th>Used within year</th>\n",
       "      <th>Used in 12+ months</th>\n",
       "      <th>Never used</th>\n",
       "    </tr>\n",
       "    <tr>\n",
       "      <th>Any Health Insurance</th>\n",
       "      <th></th>\n",
       "      <th></th>\n",
       "      <th></th>\n",
       "    </tr>\n",
       "  </thead>\n",
       "  <tbody>\n",
       "    <tr>\n",
       "      <th>With HI</th>\n",
       "      <td>30.246</td>\n",
       "      <td>24.137</td>\n",
       "      <td>45.617</td>\n",
       "    </tr>\n",
       "    <tr>\n",
       "      <th>Without HI</th>\n",
       "      <td>28.177</td>\n",
       "      <td>19.232</td>\n",
       "      <td>52.591</td>\n",
       "    </tr>\n",
       "    <tr>\n",
       "      <th>All</th>\n",
       "      <td>46.272</td>\n",
       "      <td>23.676</td>\n",
       "      <td>30.052</td>\n",
       "    </tr>\n",
       "  </tbody>\n",
       "</table>\n",
       "</div>"
      ],
      "text/plain": [
       "Used Prescription Painkillers  Used within year  Used in 12+ months  \\\n",
       "Any Health Insurance                                                  \n",
       "With HI                                  30.246              24.137   \n",
       "Without HI                               28.177              19.232   \n",
       "All                                      46.272              23.676   \n",
       "\n",
       "Used Prescription Painkillers  Never used  \n",
       "Any Health Insurance                       \n",
       "With HI                            45.617  \n",
       "Without HI                         52.591  \n",
       "All                                30.052  "
      ]
     },
     "execution_count": 18,
     "metadata": {},
     "output_type": "execute_result"
    }
   ],
   "source": [
    "ct = pd.crosstab(df[\"ANY_HI\"], df[\"PRES_PAINKILLER_USE\"], \n",
    "                 rownames=['Any Health Insurance'], colnames=['Used Prescription Painkillers'],\n",
    "                 margins=True, normalize=\"index\")\n",
    "(ct*100).round(decimals=3)"
   ]
  },
  {
   "cell_type": "markdown",
   "metadata": {},
   "source": [
    "However, by sorting people with and without any health insurance, we can see that having any type of health insurance seems to be related to increased opioid use in the short and long term."
   ]
  },
  {
   "cell_type": "markdown",
   "metadata": {},
   "source": [
    "#### Filtering by: Used any painkiller\n",
    "\n",
    "The idea now is to analyse only people who have used any pain killers in their lifetime. With that, we can see a higher relative difference in the variables."
   ]
  },
  {
   "cell_type": "code",
   "execution_count": 19,
   "metadata": {},
   "outputs": [],
   "source": [
    "used_pk = df[df.PRES_PAINKILLER_USE != \"Never used\"]"
   ]
  },
  {
   "cell_type": "code",
   "execution_count": 20,
   "metadata": {},
   "outputs": [
    {
     "data": {
      "text/html": [
       "<div>\n",
       "<style scoped>\n",
       "    .dataframe tbody tr th:only-of-type {\n",
       "        vertical-align: middle;\n",
       "    }\n",
       "\n",
       "    .dataframe tbody tr th {\n",
       "        vertical-align: top;\n",
       "    }\n",
       "\n",
       "    .dataframe thead th {\n",
       "        text-align: right;\n",
       "    }\n",
       "</style>\n",
       "<table border=\"1\" class=\"dataframe\">\n",
       "  <thead>\n",
       "    <tr style=\"text-align: right;\">\n",
       "      <th>Used Prescription Painkillers</th>\n",
       "      <th>Used within year</th>\n",
       "      <th>Used in 12+ months</th>\n",
       "    </tr>\n",
       "    <tr>\n",
       "      <th>Health Insurance</th>\n",
       "      <th></th>\n",
       "      <th></th>\n",
       "    </tr>\n",
       "  </thead>\n",
       "  <tbody>\n",
       "    <tr>\n",
       "      <th>Has Medicaid/CHIP</th>\n",
       "      <td>71.390</td>\n",
       "      <td>28.610</td>\n",
       "    </tr>\n",
       "    <tr>\n",
       "      <th>Has Private HI</th>\n",
       "      <td>50.301</td>\n",
       "      <td>49.699</td>\n",
       "    </tr>\n",
       "    <tr>\n",
       "      <th>Has any other HI</th>\n",
       "      <td>59.323</td>\n",
       "      <td>40.677</td>\n",
       "    </tr>\n",
       "    <tr>\n",
       "      <th>Without any HI</th>\n",
       "      <td>59.434</td>\n",
       "      <td>40.566</td>\n",
       "    </tr>\n",
       "    <tr>\n",
       "      <th>All</th>\n",
       "      <td>44.067</td>\n",
       "      <td>55.933</td>\n",
       "    </tr>\n",
       "  </tbody>\n",
       "</table>\n",
       "</div>"
      ],
      "text/plain": [
       "Used Prescription Painkillers  Used within year  Used in 12+ months\n",
       "Health Insurance                                                   \n",
       "Has Medicaid/CHIP                        71.390              28.610\n",
       "Has Private HI                           50.301              49.699\n",
       "Has any other HI                         59.323              40.677\n",
       "Without any HI                           59.434              40.566\n",
       "All                                      44.067              55.933"
      ]
     },
     "execution_count": 20,
     "metadata": {},
     "output_type": "execute_result"
    }
   ],
   "source": [
    "ct = pd.crosstab(used_pk[\"HEALTH_INSURANCE\"], used_pk[\"PRES_PAINKILLER_USE\"],\n",
    "                 rownames=['Health Insurance'], colnames=['Used Prescription Painkillers'],\n",
    "                 margins=True, normalize='index')\n",
    "(ct*100).round(decimals=3)"
   ]
  },
  {
   "cell_type": "markdown",
   "metadata": {},
   "source": [
    "Of those who had ever used prescription painkillers, those on Medicaid/CHIP had a significantly higher chance of taking them recently than the other groups. People who have a private health insurance were more likely to have had them in the past."
   ]
  },
  {
   "cell_type": "code",
   "execution_count": 21,
   "metadata": {},
   "outputs": [
    {
     "data": {
      "text/html": [
       "<div>\n",
       "<style scoped>\n",
       "    .dataframe tbody tr th:only-of-type {\n",
       "        vertical-align: middle;\n",
       "    }\n",
       "\n",
       "    .dataframe tbody tr th {\n",
       "        vertical-align: top;\n",
       "    }\n",
       "\n",
       "    .dataframe thead th {\n",
       "        text-align: right;\n",
       "    }\n",
       "</style>\n",
       "<table border=\"1\" class=\"dataframe\">\n",
       "  <thead>\n",
       "    <tr style=\"text-align: right;\">\n",
       "      <th>Misused Prescription Painkillers</th>\n",
       "      <th>Misused in last 30 days</th>\n",
       "      <th>Misused 31 days-12 months</th>\n",
       "      <th>Misused 12+ months</th>\n",
       "      <th>Never misused</th>\n",
       "    </tr>\n",
       "    <tr>\n",
       "      <th>Health Insurance</th>\n",
       "      <th></th>\n",
       "      <th></th>\n",
       "      <th></th>\n",
       "      <th></th>\n",
       "    </tr>\n",
       "  </thead>\n",
       "  <tbody>\n",
       "    <tr>\n",
       "      <th>Has Medicaid/CHIP</th>\n",
       "      <td>4.340</td>\n",
       "      <td>9.448</td>\n",
       "      <td>10.850</td>\n",
       "      <td>75.363</td>\n",
       "    </tr>\n",
       "    <tr>\n",
       "      <th>Has Private HI</th>\n",
       "      <td>1.799</td>\n",
       "      <td>5.282</td>\n",
       "      <td>10.456</td>\n",
       "      <td>82.463</td>\n",
       "    </tr>\n",
       "    <tr>\n",
       "      <th>Has any other HI</th>\n",
       "      <td>2.315</td>\n",
       "      <td>5.015</td>\n",
       "      <td>8.444</td>\n",
       "      <td>84.226</td>\n",
       "    </tr>\n",
       "    <tr>\n",
       "      <th>Without any HI</th>\n",
       "      <td>5.066</td>\n",
       "      <td>9.055</td>\n",
       "      <td>13.123</td>\n",
       "      <td>72.756</td>\n",
       "    </tr>\n",
       "    <tr>\n",
       "      <th>All</th>\n",
       "      <td>80.388</td>\n",
       "      <td>10.600</td>\n",
       "      <td>6.400</td>\n",
       "      <td>2.613</td>\n",
       "    </tr>\n",
       "  </tbody>\n",
       "</table>\n",
       "</div>"
      ],
      "text/plain": [
       "Misused Prescription Painkillers  Misused in last 30 days  \\\n",
       "Health Insurance                                            \n",
       "Has Medicaid/CHIP                                   4.340   \n",
       "Has Private HI                                      1.799   \n",
       "Has any other HI                                    2.315   \n",
       "Without any HI                                      5.066   \n",
       "All                                                80.388   \n",
       "\n",
       "Misused Prescription Painkillers  Misused 31 days-12 months  \\\n",
       "Health Insurance                                              \n",
       "Has Medicaid/CHIP                                     9.448   \n",
       "Has Private HI                                        5.282   \n",
       "Has any other HI                                      5.015   \n",
       "Without any HI                                        9.055   \n",
       "All                                                  10.600   \n",
       "\n",
       "Misused Prescription Painkillers  Misused 12+ months  Never misused  \n",
       "Health Insurance                                                     \n",
       "Has Medicaid/CHIP                             10.850         75.363  \n",
       "Has Private HI                                10.456         82.463  \n",
       "Has any other HI                               8.444         84.226  \n",
       "Without any HI                                13.123         72.756  \n",
       "All                                            6.400          2.613  "
      ]
     },
     "execution_count": 21,
     "metadata": {},
     "output_type": "execute_result"
    }
   ],
   "source": [
    "ct = pd.crosstab(used_pk[\"HEALTH_INSURANCE\"], used_pk[\"REC_PAINKILLER_MISUSE\"],\n",
    "                 rownames=['Health Insurance'], colnames=['Misused Prescription Painkillers'],\n",
    "                  margins=True, normalize='index')\n",
    "(ct*100).round(decimals=3)"
   ]
  },
  {
   "cell_type": "markdown",
   "metadata": {},
   "source": [
    "By only selecting people who have taken any pain relievers, the difference between the groups of health insurance become more apparent. People without any health insurance and people with Medicaid/CHIP were more likely to have misused pain relievers."
   ]
  },
  {
   "cell_type": "code",
   "execution_count": 22,
   "metadata": {},
   "outputs": [
    {
     "data": {
      "text/html": [
       "<div>\n",
       "<style scoped>\n",
       "    .dataframe tbody tr th:only-of-type {\n",
       "        vertical-align: middle;\n",
       "    }\n",
       "\n",
       "    .dataframe tbody tr th {\n",
       "        vertical-align: top;\n",
       "    }\n",
       "\n",
       "    .dataframe thead th {\n",
       "        text-align: right;\n",
       "    }\n",
       "</style>\n",
       "<table border=\"1\" class=\"dataframe\">\n",
       "  <thead>\n",
       "    <tr style=\"text-align: right;\">\n",
       "      <th>Used Prescription Painkillers</th>\n",
       "      <th>Used within year</th>\n",
       "      <th>Used in 12+ months</th>\n",
       "    </tr>\n",
       "    <tr>\n",
       "      <th>Any Health Insurance</th>\n",
       "      <th></th>\n",
       "      <th></th>\n",
       "    </tr>\n",
       "  </thead>\n",
       "  <tbody>\n",
       "    <tr>\n",
       "      <th>With HI</th>\n",
       "      <td>55.617</td>\n",
       "      <td>44.383</td>\n",
       "    </tr>\n",
       "    <tr>\n",
       "      <th>Without HI</th>\n",
       "      <td>59.434</td>\n",
       "      <td>40.566</td>\n",
       "    </tr>\n",
       "    <tr>\n",
       "      <th>All</th>\n",
       "      <td>44.067</td>\n",
       "      <td>55.933</td>\n",
       "    </tr>\n",
       "  </tbody>\n",
       "</table>\n",
       "</div>"
      ],
      "text/plain": [
       "Used Prescription Painkillers  Used within year  Used in 12+ months\n",
       "Any Health Insurance                                               \n",
       "With HI                                  55.617              44.383\n",
       "Without HI                               59.434              40.566\n",
       "All                                      44.067              55.933"
      ]
     },
     "execution_count": 22,
     "metadata": {},
     "output_type": "execute_result"
    }
   ],
   "source": [
    "ct = pd.crosstab(used_pk[\"ANY_HI\"], used_pk[\"PRES_PAINKILLER_USE\"], \n",
    "                 rownames=['Any Health Insurance'], colnames=['Used Prescription Painkillers'],\n",
    "                 margins=True, normalize=\"index\")\n",
    "(ct*100).round(decimals=3)"
   ]
  },
  {
   "cell_type": "markdown",
   "metadata": {},
   "source": [
    "Of those who had ever used prescription painkillers, those without any health insurance were more likely to have taken them recently (within a year)."
   ]
  },
  {
   "cell_type": "markdown",
   "metadata": {},
   "source": [
    "## Explorimg PMFs\n",
    "\n",
    "Here we want to get a more visual look at the distributions. For that, we plot different PMFs and analyse them."
   ]
  },
  {
   "cell_type": "code",
   "execution_count": 23,
   "metadata": {},
   "outputs": [
    {
     "data": {
      "image/png": "[encoded data removed]",
      "text/plain": [
       "<Figure size 432x288 with 1 Axes>"
      ]
     },
     "metadata": {
      "needs_background": "light"
     },
     "output_type": "display_data"
    }
   ],
   "source": [
    "pmf_a = Pmf(used_pk[\"PRES_PAINKILLER_USE\"])\n",
    "thinkplot.Hist(pmf_a)\n",
    "plt.xticks(np.arange(0, 3, step=1), rotation='vertical')\n",
    "decorate(ylabel='Probability', title='Overall Likelihood of Recent Opioid Use for Past Users')"
   ]
  },
  {
   "cell_type": "markdown",
   "metadata": {},
   "source": [
    "Over half of all people who have ever tried opioids have continued to take them in the past year. Some of this could be because first time use was in the past year, but it is unlikely to be a majority. "
   ]
  },
  {
   "cell_type": "code",
   "execution_count": 24,
   "metadata": {},
   "outputs": [
    {
     "data": {
      "image/png": "[encoded data removed]",
      "text/plain": [
       "<Figure size 432x288 with 1 Axes>"
      ]
     },
     "metadata": {
      "needs_background": "light"
     },
     "output_type": "display_data"
    }
   ],
   "source": [
    "pmf_a = Pmf(used_pk[\"REC_PAINKILLER_MISUSE\"])\n",
    "thinkplot.Hist(pmf_a)\n",
    "plt.xticks(np.arange(0, 4, step=1), rotation='vertical')\n",
    "decorate(ylabel='Probability', title='Recent painkiller misuse for people who have taken any')"
   ]
  },
  {
   "cell_type": "markdown",
   "metadata": {},
   "source": [
    "The recent painkiller misuse PMF shows us the distribution of misuse for all the respondents. We can see that people are more likely to have misused them within more than a year from the survey. It is more visual than the crosstab."
   ]
  },
  {
   "cell_type": "markdown",
   "metadata": {},
   "source": [
    "## Comparing two groups\n",
    "\n",
    "Here we make a few histograms that compare the two groups: people who have private health insurance and those who have others or not at all. We're interesing in any difference here."
   ]
  },
  {
   "cell_type": "code",
   "execution_count": 25,
   "metadata": {},
   "outputs": [],
   "source": [
    "no_hi = df[df.HEALTH_INSURANCE != \"Has Private HI\"]\n",
    "priv_hi = df[df.HEALTH_INSURANCE == \"Has Private HI\"]"
   ]
  },
  {
   "cell_type": "code",
   "execution_count": 26,
   "metadata": {},
   "outputs": [
    {
     "data": {
      "image/png": "[encoded data removed]",
      "text/plain": [
       "<Figure size 432x288 with 1 Axes>"
      ]
     },
     "metadata": {
      "needs_background": "light"
     },
     "output_type": "display_data"
    }
   ],
   "source": [
    "pmf_a = Pmf(no_hi[\"REC_PAINKILLER_MISUSE\"])\n",
    "pmf_b = Pmf(priv_hi[\"REC_PAINKILLER_MISUSE\"])\n",
    "thinkplot.Hist(pmf_a, align='right', width=width, label = 'Others')\n",
    "thinkplot.Hist(pmf_b, align='left', width=width, label = 'Private Health Insurance')\n",
    "plt.xticks(np.arange(0, 4, step=1), rotation='vertical')\n",
    "thinkplot.Config(ylabel='probability')"
   ]
  },
  {
   "cell_type": "markdown",
   "metadata": {},
   "source": [
    "Within the year of the survey, those without health insurance were more likely to have abused painkillers than those with private health insurance. People with the private health insurance were more likely to have abused them in the past (more than a year from the survey)."
   ]
  },
  {
   "cell_type": "code",
   "execution_count": 27,
   "metadata": {},
   "outputs": [
    {
     "data": {
      "image/png": "[encoded data removed]",
      "text/plain": [
       "<Figure size 432x288 with 1 Axes>"
      ]
     },
     "metadata": {
      "needs_background": "light"
     },
     "output_type": "display_data"
    }
   ],
   "source": [
    "pmf_c = Pmf(no_hi[\"ANY_PAINKILLER_LIFETIME\"])\n",
    "pmf_d = Pmf(priv_hi[\"ANY_PAINKILLER_LIFETIME\"])\n",
    "thinkplot.Hist(pmf_c, align='right', width=width, label = 'Others')\n",
    "thinkplot.Hist(pmf_d, align='left', width=width, label = 'Private Health Insurance')\n",
    "plt.xticks(np.arange(0, 6, step=1), rotation='vertical')\n",
    "thinkplot.Config(ylabel='probability')"
   ]
  },
  {
   "cell_type": "markdown",
   "metadata": {},
   "source": [
    "In this PMF we can see an interesting difference. People with private health insurance were more likely to have had a prescription pain reliever in their lifetime. We can check that in more depth by plotting the PRES_PAINKILLER_USE variable PMF."
   ]
  },
  {
   "cell_type": "code",
   "execution_count": 28,
   "metadata": {},
   "outputs": [
    {
     "data": {
      "image/png": "[encoded data removed]",
      "text/plain": [
       "<Figure size 432x288 with 1 Axes>"
      ]
     },
     "metadata": {
      "needs_background": "light"
     },
     "output_type": "display_data"
    }
   ],
   "source": [
    "pmf_e = Pmf(no_hi[\"PRES_PAINKILLER_USE\"])\n",
    "pmf_f = Pmf(priv_hi[\"PRES_PAINKILLER_USE\"])\n",
    "thinkplot.Hist(pmf_e, align='right', width=width, label = 'Others')\n",
    "thinkplot.Hist(pmf_f, align='left', width=width, label = 'Private Health Insurance')\n",
    "plt.xticks(np.arange(0, 3, step=1), rotation='vertical')\n",
    "thinkplot.Config(ylabel='probability')"
   ]
  },
  {
   "cell_type": "code",
   "execution_count": 36,
   "metadata": {},
   "outputs": [
    {
     "name": "stdout",
     "output_type": "stream",
     "text": [
      "Pmf({'Never used': 0.5212182830872601, 'Used within year': 0.31610821324374505, 'Used in 12+ months': 0.16267350366899477})\n",
      "Pmf({'Never used': 0.4233969216140726, 'Used within year': 0.29003981696083675, 'Used in 12+ months': 0.2865632614250906})\n",
      "12.39\n"
     ]
    }
   ],
   "source": [
    "print(pmf_e)\n",
    "print(pmf_f)\n",
    "diff = (pmf_f[\"Used in 12+ months\"] - pmf_e[\"Used in 12+ months\"])*100\n",
    "print(round(diff, 2))"
   ]
  },
  {
   "cell_type": "markdown",
   "metadata": {},
   "source": [
    "Here's something really interesting! People that have a private health insurance were 12.39% more likely to have taken any kind of prescription pain reliever in the past year.  \n",
    "This is not expected! As we saw during the demographic analysis, people who have private health insurance have a better education than the other group, with that, we would expect that they would value their health more and use a less strong medicine. "
   ]
  }
 ],
 "metadata": {
  "kernelspec": {
   "display_name": "Python 3",
   "language": "python",
   "name": "python3"
  },
  "language_info": {
   "codemirror_mode": {
    "name": "ipython",
    "version": 3
   },
   "file_extension": ".py",
   "mimetype": "text/x-python",
   "name": "python",
   "nbconvert_exporter": "python",
   "pygments_lexer": "ipython3",
   "version": "3.6.8"
  }
 },
 "nbformat": 4,
 "nbformat_minor": 2
}
